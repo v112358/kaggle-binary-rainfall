{
 "cells": [
  {
   "cell_type": "code",
   "execution_count": 1,
   "id": "d8b271f2",
   "metadata": {
    "_cell_guid": "b1076dfc-b9ad-4769-8c92-a6c4dae69d19",
    "_uuid": "8f2839f25d086af736a60e9eeb907d3b93b6e0e5",
    "execution": {
     "iopub.execute_input": "2025-03-24T21:38:34.972552Z",
     "iopub.status.busy": "2025-03-24T21:38:34.972158Z",
     "iopub.status.idle": "2025-03-24T21:38:38.864684Z",
     "shell.execute_reply": "2025-03-24T21:38:38.863634Z"
    },
    "papermill": {
     "duration": 3.905556,
     "end_time": "2025-03-24T21:38:38.866532",
     "exception": false,
     "start_time": "2025-03-24T21:38:34.960976",
     "status": "completed"
    },
    "tags": []
   },
   "outputs": [
    {
     "name": "stdout",
     "output_type": "stream",
     "text": [
      "/kaggle/input/playground-series-s5e3/sample_submission.csv\n",
      "/kaggle/input/playground-series-s5e3/train.csv\n",
      "/kaggle/input/playground-series-s5e3/test.csv\n"
     ]
    }
   ],
   "source": [
    "import numpy as np # linear algebra\n",
    "import pandas as pd # data processing, CSV file I/O (e.g. pd.read_csv)\n",
    "import seaborn as sns\n",
    "import matplotlib.pyplot as plt\n",
    "from sklearn.model_selection import train_test_split\n",
    "from sklearn.ensemble import RandomForestClassifier\n",
    "from xgboost import XGBClassifier\n",
    "from sklearn.linear_model import LogisticRegression\n",
    "from sklearn.preprocessing import StandardScaler\n",
    "from sklearn.pipeline import make_pipeline\n",
    "from sklearn.metrics import classification_report\n",
    "from sklearn.preprocessing import LabelEncoder\n",
    "from sklearn.metrics import roc_auc_score, roc_curve\n",
    "from sklearn.model_selection import cross_val_score\n",
    "from sklearn.model_selection import GridSearchCV\n",
    "from sklearn.impute import SimpleImputer\n",
    "\n",
    "\n",
    "from statsmodels.stats.outliers_influence import variance_inflation_factor\n",
    "from statsmodels.tools.tools import add_constant\n",
    "import os\n",
    "for dirname, _, filenames in os.walk('/kaggle/input'):\n",
    "    for filename in filenames:\n",
    "        print(os.path.join(dirname, filename))"
   ]
  },
  {
   "cell_type": "code",
   "execution_count": 2,
   "id": "333fdee8",
   "metadata": {
    "execution": {
     "iopub.execute_input": "2025-03-24T21:38:38.886364Z",
     "iopub.status.busy": "2025-03-24T21:38:38.885884Z",
     "iopub.status.idle": "2025-03-24T21:38:38.909958Z",
     "shell.execute_reply": "2025-03-24T21:38:38.908808Z"
    },
    "papermill": {
     "duration": 0.035831,
     "end_time": "2025-03-24T21:38:38.911798",
     "exception": false,
     "start_time": "2025-03-24T21:38:38.875967",
     "status": "completed"
    },
    "tags": []
   },
   "outputs": [],
   "source": [
    "train = pd.read_csv(\"/kaggle/input/playground-series-s5e3/train.csv\")"
   ]
  },
  {
   "cell_type": "code",
   "execution_count": 3,
   "id": "1eb2b6af",
   "metadata": {
    "execution": {
     "iopub.execute_input": "2025-03-24T21:38:38.931165Z",
     "iopub.status.busy": "2025-03-24T21:38:38.930803Z",
     "iopub.status.idle": "2025-03-24T21:38:38.963801Z",
     "shell.execute_reply": "2025-03-24T21:38:38.962671Z"
    },
    "papermill": {
     "duration": 0.044637,
     "end_time": "2025-03-24T21:38:38.965646",
     "exception": false,
     "start_time": "2025-03-24T21:38:38.921009",
     "status": "completed"
    },
    "tags": []
   },
   "outputs": [
    {
     "data": {
      "text/html": [
       "<div>\n",
       "<style scoped>\n",
       "    .dataframe tbody tr th:only-of-type {\n",
       "        vertical-align: middle;\n",
       "    }\n",
       "\n",
       "    .dataframe tbody tr th {\n",
       "        vertical-align: top;\n",
       "    }\n",
       "\n",
       "    .dataframe thead th {\n",
       "        text-align: right;\n",
       "    }\n",
       "</style>\n",
       "<table border=\"1\" class=\"dataframe\">\n",
       "  <thead>\n",
       "    <tr style=\"text-align: right;\">\n",
       "      <th></th>\n",
       "      <th>id</th>\n",
       "      <th>day</th>\n",
       "      <th>pressure</th>\n",
       "      <th>maxtemp</th>\n",
       "      <th>temparature</th>\n",
       "      <th>mintemp</th>\n",
       "      <th>dewpoint</th>\n",
       "      <th>humidity</th>\n",
       "      <th>cloud</th>\n",
       "      <th>sunshine</th>\n",
       "      <th>winddirection</th>\n",
       "      <th>windspeed</th>\n",
       "      <th>rainfall</th>\n",
       "    </tr>\n",
       "  </thead>\n",
       "  <tbody>\n",
       "    <tr>\n",
       "      <th>0</th>\n",
       "      <td>0</td>\n",
       "      <td>1</td>\n",
       "      <td>1017.4</td>\n",
       "      <td>21.2</td>\n",
       "      <td>20.6</td>\n",
       "      <td>19.9</td>\n",
       "      <td>19.4</td>\n",
       "      <td>87.0</td>\n",
       "      <td>88.0</td>\n",
       "      <td>1.1</td>\n",
       "      <td>60.0</td>\n",
       "      <td>17.2</td>\n",
       "      <td>1</td>\n",
       "    </tr>\n",
       "    <tr>\n",
       "      <th>1</th>\n",
       "      <td>1</td>\n",
       "      <td>2</td>\n",
       "      <td>1019.5</td>\n",
       "      <td>16.2</td>\n",
       "      <td>16.9</td>\n",
       "      <td>15.8</td>\n",
       "      <td>15.4</td>\n",
       "      <td>95.0</td>\n",
       "      <td>91.0</td>\n",
       "      <td>0.0</td>\n",
       "      <td>50.0</td>\n",
       "      <td>21.9</td>\n",
       "      <td>1</td>\n",
       "    </tr>\n",
       "    <tr>\n",
       "      <th>2</th>\n",
       "      <td>2</td>\n",
       "      <td>3</td>\n",
       "      <td>1024.1</td>\n",
       "      <td>19.4</td>\n",
       "      <td>16.1</td>\n",
       "      <td>14.6</td>\n",
       "      <td>9.3</td>\n",
       "      <td>75.0</td>\n",
       "      <td>47.0</td>\n",
       "      <td>8.3</td>\n",
       "      <td>70.0</td>\n",
       "      <td>18.1</td>\n",
       "      <td>1</td>\n",
       "    </tr>\n",
       "    <tr>\n",
       "      <th>3</th>\n",
       "      <td>3</td>\n",
       "      <td>4</td>\n",
       "      <td>1013.4</td>\n",
       "      <td>18.1</td>\n",
       "      <td>17.8</td>\n",
       "      <td>16.9</td>\n",
       "      <td>16.8</td>\n",
       "      <td>95.0</td>\n",
       "      <td>95.0</td>\n",
       "      <td>0.0</td>\n",
       "      <td>60.0</td>\n",
       "      <td>35.6</td>\n",
       "      <td>1</td>\n",
       "    </tr>\n",
       "    <tr>\n",
       "      <th>4</th>\n",
       "      <td>4</td>\n",
       "      <td>5</td>\n",
       "      <td>1021.8</td>\n",
       "      <td>21.3</td>\n",
       "      <td>18.4</td>\n",
       "      <td>15.2</td>\n",
       "      <td>9.6</td>\n",
       "      <td>52.0</td>\n",
       "      <td>45.0</td>\n",
       "      <td>3.6</td>\n",
       "      <td>40.0</td>\n",
       "      <td>24.8</td>\n",
       "      <td>0</td>\n",
       "    </tr>\n",
       "  </tbody>\n",
       "</table>\n",
       "</div>"
      ],
      "text/plain": [
       "   id  day  pressure  maxtemp  temparature  mintemp  dewpoint  humidity  \\\n",
       "0   0    1    1017.4     21.2         20.6     19.9      19.4      87.0   \n",
       "1   1    2    1019.5     16.2         16.9     15.8      15.4      95.0   \n",
       "2   2    3    1024.1     19.4         16.1     14.6       9.3      75.0   \n",
       "3   3    4    1013.4     18.1         17.8     16.9      16.8      95.0   \n",
       "4   4    5    1021.8     21.3         18.4     15.2       9.6      52.0   \n",
       "\n",
       "   cloud  sunshine  winddirection  windspeed  rainfall  \n",
       "0   88.0       1.1           60.0       17.2         1  \n",
       "1   91.0       0.0           50.0       21.9         1  \n",
       "2   47.0       8.3           70.0       18.1         1  \n",
       "3   95.0       0.0           60.0       35.6         1  \n",
       "4   45.0       3.6           40.0       24.8         0  "
      ]
     },
     "execution_count": 3,
     "metadata": {},
     "output_type": "execute_result"
    }
   ],
   "source": [
    "train.head()"
   ]
  },
  {
   "cell_type": "code",
   "execution_count": 4,
   "id": "12130e1d",
   "metadata": {
    "execution": {
     "iopub.execute_input": "2025-03-24T21:38:38.985742Z",
     "iopub.status.busy": "2025-03-24T21:38:38.985312Z",
     "iopub.status.idle": "2025-03-24T21:38:38.996020Z",
     "shell.execute_reply": "2025-03-24T21:38:38.995141Z"
    },
    "papermill": {
     "duration": 0.022507,
     "end_time": "2025-03-24T21:38:38.997662",
     "exception": false,
     "start_time": "2025-03-24T21:38:38.975155",
     "status": "completed"
    },
    "tags": []
   },
   "outputs": [
    {
     "data": {
      "text/plain": [
       "365"
      ]
     },
     "execution_count": 4,
     "metadata": {},
     "output_type": "execute_result"
    }
   ],
   "source": [
    "train[\"day\"].nunique() ##Checking if the day column includes leap days"
   ]
  },
  {
   "cell_type": "code",
   "execution_count": 5,
   "id": "09bc7d41",
   "metadata": {
    "execution": {
     "iopub.execute_input": "2025-03-24T21:38:39.017761Z",
     "iopub.status.busy": "2025-03-24T21:38:39.017350Z",
     "iopub.status.idle": "2025-03-24T21:38:39.027365Z",
     "shell.execute_reply": "2025-03-24T21:38:39.026527Z"
    },
    "papermill": {
     "duration": 0.021831,
     "end_time": "2025-03-24T21:38:39.028968",
     "exception": false,
     "start_time": "2025-03-24T21:38:39.007137",
     "status": "completed"
    },
    "tags": []
   },
   "outputs": [
    {
     "data": {
      "text/plain": [
       "rainfall\n",
       "1    1650\n",
       "0     540\n",
       "Name: count, dtype: int64"
      ]
     },
     "execution_count": 5,
     "metadata": {},
     "output_type": "execute_result"
    }
   ],
   "source": [
    "train[\"rainfall\"].value_counts() ##Checking how balanced the classes are"
   ]
  },
  {
   "cell_type": "code",
   "execution_count": 6,
   "id": "756fec7b",
   "metadata": {
    "execution": {
     "iopub.execute_input": "2025-03-24T21:38:39.049441Z",
     "iopub.status.busy": "2025-03-24T21:38:39.049083Z",
     "iopub.status.idle": "2025-03-24T21:38:39.089816Z",
     "shell.execute_reply": "2025-03-24T21:38:39.088802Z"
    },
    "papermill": {
     "duration": 0.052486,
     "end_time": "2025-03-24T21:38:39.091413",
     "exception": false,
     "start_time": "2025-03-24T21:38:39.038927",
     "status": "completed"
    },
    "tags": []
   },
   "outputs": [
    {
     "data": {
      "text/html": [
       "<div>\n",
       "<style scoped>\n",
       "    .dataframe tbody tr th:only-of-type {\n",
       "        vertical-align: middle;\n",
       "    }\n",
       "\n",
       "    .dataframe tbody tr th {\n",
       "        vertical-align: top;\n",
       "    }\n",
       "\n",
       "    .dataframe thead th {\n",
       "        text-align: right;\n",
       "    }\n",
       "</style>\n",
       "<table border=\"1\" class=\"dataframe\">\n",
       "  <thead>\n",
       "    <tr style=\"text-align: right;\">\n",
       "      <th></th>\n",
       "      <th>pressure</th>\n",
       "      <th>maxtemp</th>\n",
       "      <th>temparature</th>\n",
       "      <th>mintemp</th>\n",
       "      <th>dewpoint</th>\n",
       "      <th>humidity</th>\n",
       "      <th>cloud</th>\n",
       "      <th>sunshine</th>\n",
       "      <th>winddirection</th>\n",
       "      <th>windspeed</th>\n",
       "    </tr>\n",
       "  </thead>\n",
       "  <tbody>\n",
       "    <tr>\n",
       "      <th>count</th>\n",
       "      <td>2190.000000</td>\n",
       "      <td>2190.000000</td>\n",
       "      <td>2190.000000</td>\n",
       "      <td>2190.000000</td>\n",
       "      <td>2190.000000</td>\n",
       "      <td>2190.000000</td>\n",
       "      <td>2190.000000</td>\n",
       "      <td>2190.000000</td>\n",
       "      <td>2190.000000</td>\n",
       "      <td>2190.000000</td>\n",
       "    </tr>\n",
       "    <tr>\n",
       "      <th>mean</th>\n",
       "      <td>1013.602146</td>\n",
       "      <td>26.365799</td>\n",
       "      <td>23.953059</td>\n",
       "      <td>22.170091</td>\n",
       "      <td>20.454566</td>\n",
       "      <td>82.036530</td>\n",
       "      <td>75.721918</td>\n",
       "      <td>3.744429</td>\n",
       "      <td>104.863151</td>\n",
       "      <td>21.804703</td>\n",
       "    </tr>\n",
       "    <tr>\n",
       "      <th>std</th>\n",
       "      <td>5.655366</td>\n",
       "      <td>5.654330</td>\n",
       "      <td>5.222410</td>\n",
       "      <td>5.059120</td>\n",
       "      <td>5.288406</td>\n",
       "      <td>7.800654</td>\n",
       "      <td>18.026498</td>\n",
       "      <td>3.626327</td>\n",
       "      <td>80.002416</td>\n",
       "      <td>9.898659</td>\n",
       "    </tr>\n",
       "    <tr>\n",
       "      <th>min</th>\n",
       "      <td>999.000000</td>\n",
       "      <td>10.400000</td>\n",
       "      <td>7.400000</td>\n",
       "      <td>4.000000</td>\n",
       "      <td>-0.300000</td>\n",
       "      <td>39.000000</td>\n",
       "      <td>2.000000</td>\n",
       "      <td>0.000000</td>\n",
       "      <td>10.000000</td>\n",
       "      <td>4.400000</td>\n",
       "    </tr>\n",
       "    <tr>\n",
       "      <th>25%</th>\n",
       "      <td>1008.600000</td>\n",
       "      <td>21.300000</td>\n",
       "      <td>19.300000</td>\n",
       "      <td>17.700000</td>\n",
       "      <td>16.800000</td>\n",
       "      <td>77.000000</td>\n",
       "      <td>69.000000</td>\n",
       "      <td>0.400000</td>\n",
       "      <td>40.000000</td>\n",
       "      <td>14.125000</td>\n",
       "    </tr>\n",
       "    <tr>\n",
       "      <th>50%</th>\n",
       "      <td>1013.000000</td>\n",
       "      <td>27.800000</td>\n",
       "      <td>25.500000</td>\n",
       "      <td>23.850000</td>\n",
       "      <td>22.150000</td>\n",
       "      <td>82.000000</td>\n",
       "      <td>83.000000</td>\n",
       "      <td>2.400000</td>\n",
       "      <td>70.000000</td>\n",
       "      <td>20.500000</td>\n",
       "    </tr>\n",
       "    <tr>\n",
       "      <th>75%</th>\n",
       "      <td>1017.775000</td>\n",
       "      <td>31.200000</td>\n",
       "      <td>28.400000</td>\n",
       "      <td>26.400000</td>\n",
       "      <td>25.000000</td>\n",
       "      <td>88.000000</td>\n",
       "      <td>88.000000</td>\n",
       "      <td>6.800000</td>\n",
       "      <td>200.000000</td>\n",
       "      <td>27.900000</td>\n",
       "    </tr>\n",
       "    <tr>\n",
       "      <th>max</th>\n",
       "      <td>1034.600000</td>\n",
       "      <td>36.000000</td>\n",
       "      <td>31.500000</td>\n",
       "      <td>29.800000</td>\n",
       "      <td>26.700000</td>\n",
       "      <td>98.000000</td>\n",
       "      <td>100.000000</td>\n",
       "      <td>12.100000</td>\n",
       "      <td>300.000000</td>\n",
       "      <td>59.500000</td>\n",
       "    </tr>\n",
       "  </tbody>\n",
       "</table>\n",
       "</div>"
      ],
      "text/plain": [
       "          pressure      maxtemp  temparature      mintemp     dewpoint  \\\n",
       "count  2190.000000  2190.000000  2190.000000  2190.000000  2190.000000   \n",
       "mean   1013.602146    26.365799    23.953059    22.170091    20.454566   \n",
       "std       5.655366     5.654330     5.222410     5.059120     5.288406   \n",
       "min     999.000000    10.400000     7.400000     4.000000    -0.300000   \n",
       "25%    1008.600000    21.300000    19.300000    17.700000    16.800000   \n",
       "50%    1013.000000    27.800000    25.500000    23.850000    22.150000   \n",
       "75%    1017.775000    31.200000    28.400000    26.400000    25.000000   \n",
       "max    1034.600000    36.000000    31.500000    29.800000    26.700000   \n",
       "\n",
       "          humidity        cloud     sunshine  winddirection    windspeed  \n",
       "count  2190.000000  2190.000000  2190.000000    2190.000000  2190.000000  \n",
       "mean     82.036530    75.721918     3.744429     104.863151    21.804703  \n",
       "std       7.800654    18.026498     3.626327      80.002416     9.898659  \n",
       "min      39.000000     2.000000     0.000000      10.000000     4.400000  \n",
       "25%      77.000000    69.000000     0.400000      40.000000    14.125000  \n",
       "50%      82.000000    83.000000     2.400000      70.000000    20.500000  \n",
       "75%      88.000000    88.000000     6.800000     200.000000    27.900000  \n",
       "max      98.000000   100.000000    12.100000     300.000000    59.500000  "
      ]
     },
     "execution_count": 6,
     "metadata": {},
     "output_type": "execute_result"
    }
   ],
   "source": [
    "train.drop(columns=['id', 'day', 'rainfall']).describe() ##checking summary, looking for outliers, nothing too egregious"
   ]
  },
  {
   "cell_type": "code",
   "execution_count": 7,
   "id": "d16bb125",
   "metadata": {
    "execution": {
     "iopub.execute_input": "2025-03-24T21:38:39.112300Z",
     "iopub.status.busy": "2025-03-24T21:38:39.111975Z",
     "iopub.status.idle": "2025-03-24T21:38:39.119447Z",
     "shell.execute_reply": "2025-03-24T21:38:39.118588Z"
    },
    "papermill": {
     "duration": 0.019452,
     "end_time": "2025-03-24T21:38:39.121028",
     "exception": false,
     "start_time": "2025-03-24T21:38:39.101576",
     "status": "completed"
    },
    "tags": []
   },
   "outputs": [
    {
     "data": {
      "text/plain": [
       "id               0\n",
       "day              0\n",
       "pressure         0\n",
       "maxtemp          0\n",
       "temparature      0\n",
       "mintemp          0\n",
       "dewpoint         0\n",
       "humidity         0\n",
       "cloud            0\n",
       "sunshine         0\n",
       "winddirection    0\n",
       "windspeed        0\n",
       "rainfall         0\n",
       "dtype: int64"
      ]
     },
     "execution_count": 7,
     "metadata": {},
     "output_type": "execute_result"
    }
   ],
   "source": [
    "train.isnull().sum() ##checking for nulls"
   ]
  },
  {
   "cell_type": "code",
   "execution_count": 8,
   "id": "e1a84358",
   "metadata": {
    "execution": {
     "iopub.execute_input": "2025-03-24T21:38:39.143245Z",
     "iopub.status.busy": "2025-03-24T21:38:39.142908Z",
     "iopub.status.idle": "2025-03-24T21:38:39.146659Z",
     "shell.execute_reply": "2025-03-24T21:38:39.145777Z"
    },
    "papermill": {
     "duration": 0.017302,
     "end_time": "2025-03-24T21:38:39.148243",
     "exception": false,
     "start_time": "2025-03-24T21:38:39.130941",
     "status": "completed"
    },
    "tags": []
   },
   "outputs": [],
   "source": [
    "##Checking for multicollinearity"
   ]
  },
  {
   "cell_type": "code",
   "execution_count": 9,
   "id": "de8aa17d",
   "metadata": {
    "execution": {
     "iopub.execute_input": "2025-03-24T21:38:39.169281Z",
     "iopub.status.busy": "2025-03-24T21:38:39.168941Z",
     "iopub.status.idle": "2025-03-24T21:38:39.176458Z",
     "shell.execute_reply": "2025-03-24T21:38:39.175684Z"
    },
    "papermill": {
     "duration": 0.020007,
     "end_time": "2025-03-24T21:38:39.178150",
     "exception": false,
     "start_time": "2025-03-24T21:38:39.158143",
     "status": "completed"
    },
    "tags": []
   },
   "outputs": [],
   "source": [
    "X = train.drop(columns = ['id','day','rainfall'])\n",
    "corr_matrix = X.corr()"
   ]
  },
  {
   "cell_type": "code",
   "execution_count": 10,
   "id": "547fc16b",
   "metadata": {
    "execution": {
     "iopub.execute_input": "2025-03-24T21:38:39.199068Z",
     "iopub.status.busy": "2025-03-24T21:38:39.198695Z",
     "iopub.status.idle": "2025-03-24T21:38:39.973757Z",
     "shell.execute_reply": "2025-03-24T21:38:39.972698Z"
    },
    "papermill": {
     "duration": 0.788843,
     "end_time": "2025-03-24T21:38:39.976936",
     "exception": false,
     "start_time": "2025-03-24T21:38:39.188093",
     "status": "completed"
    },
    "tags": []
   },
   "outputs": [
    {
     "name": "stderr",
     "output_type": "stream",
     "text": [
      "/usr/local/lib/python3.10/dist-packages/matplotlib/colors.py:721: RuntimeWarning: invalid value encountered in less\n",
      "  xa[xa < 0] = -1\n"
     ]
    },
    {
     "data": {
      "image/png": "[encoded data removed]",
      "text/plain": [
       "<Figure size 1000x800 with 2 Axes>"
      ]
     },
     "metadata": {},
     "output_type": "display_data"
    }
   ],
   "source": [
    "plt.figure(figsize=(10, 8))\n",
    "sns.heatmap(corr_matrix, annot=True, fmt=\".2f\", cmap=\"coolwarm\", center=0)\n",
    "plt.title(\"Correlation Matrix of Regressors\")\n",
    "plt.tight_layout()\n",
    "plt.show()"
   ]
  },
  {
   "cell_type": "code",
   "execution_count": 11,
   "id": "7396d6e4",
   "metadata": {
    "execution": {
     "iopub.execute_input": "2025-03-24T21:38:40.004651Z",
     "iopub.status.busy": "2025-03-24T21:38:40.004263Z",
     "iopub.status.idle": "2025-03-24T21:38:40.008376Z",
     "shell.execute_reply": "2025-03-24T21:38:40.007335Z"
    },
    "papermill": {
     "duration": 0.019856,
     "end_time": "2025-03-24T21:38:40.010072",
     "exception": false,
     "start_time": "2025-03-24T21:38:39.990216",
     "status": "completed"
    },
    "tags": []
   },
   "outputs": [],
   "source": [
    "## It looks like dewpoint is redundant with the temperature cols. Also, we don't need all the temp cols. Maybe just temperature + temp range?"
   ]
  },
  {
   "cell_type": "code",
   "execution_count": 12,
   "id": "3955294f",
   "metadata": {
    "execution": {
     "iopub.execute_input": "2025-03-24T21:38:40.036265Z",
     "iopub.status.busy": "2025-03-24T21:38:40.035926Z",
     "iopub.status.idle": "2025-03-24T21:38:40.039930Z",
     "shell.execute_reply": "2025-03-24T21:38:40.038949Z"
    },
    "papermill": {
     "duration": 0.018965,
     "end_time": "2025-03-24T21:38:40.041488",
     "exception": false,
     "start_time": "2025-03-24T21:38:40.022523",
     "status": "completed"
    },
    "tags": []
   },
   "outputs": [],
   "source": [
    "## Time to do some feature engineering now"
   ]
  },
  {
   "cell_type": "code",
   "execution_count": 13,
   "id": "ce786ad7",
   "metadata": {
    "execution": {
     "iopub.execute_input": "2025-03-24T21:38:40.067038Z",
     "iopub.status.busy": "2025-03-24T21:38:40.066684Z",
     "iopub.status.idle": "2025-03-24T21:38:40.073905Z",
     "shell.execute_reply": "2025-03-24T21:38:40.072736Z"
    },
    "papermill": {
     "duration": 0.021837,
     "end_time": "2025-03-24T21:38:40.075644",
     "exception": false,
     "start_time": "2025-03-24T21:38:40.053807",
     "status": "completed"
    },
    "tags": []
   },
   "outputs": [],
   "source": [
    "##Creating a categorical variable for month\n",
    "days_in_month = [31, 28, 31, 30, 31, 30, 31, 31, 30, 31, 30, 31]\n",
    "month_names = ['Jan', 'Feb', 'Mar', 'Apr', 'May', 'Jun', 'Jul', 'Aug', 'Sep', 'Oct', 'Nov', 'Dec']\n",
    "month_edges = np.cumsum([1] + days_in_month)\n",
    "month_indices = np.searchsorted(month_edges[1:], train['day'])\n",
    "train['month'] = [month_names[i] for i in month_indices]"
   ]
  },
  {
   "cell_type": "code",
   "execution_count": 14,
   "id": "0d665c52",
   "metadata": {
    "execution": {
     "iopub.execute_input": "2025-03-24T21:38:40.102016Z",
     "iopub.status.busy": "2025-03-24T21:38:40.101668Z",
     "iopub.status.idle": "2025-03-24T21:38:40.125026Z",
     "shell.execute_reply": "2025-03-24T21:38:40.124058Z"
    },
    "papermill": {
     "duration": 0.038791,
     "end_time": "2025-03-24T21:38:40.126715",
     "exception": false,
     "start_time": "2025-03-24T21:38:40.087924",
     "status": "completed"
    },
    "tags": []
   },
   "outputs": [
    {
     "data": {
      "text/html": [
       "<div>\n",
       "<style scoped>\n",
       "    .dataframe tbody tr th:only-of-type {\n",
       "        vertical-align: middle;\n",
       "    }\n",
       "\n",
       "    .dataframe tbody tr th {\n",
       "        vertical-align: top;\n",
       "    }\n",
       "\n",
       "    .dataframe thead th {\n",
       "        text-align: right;\n",
       "    }\n",
       "</style>\n",
       "<table border=\"1\" class=\"dataframe\">\n",
       "  <thead>\n",
       "    <tr style=\"text-align: right;\">\n",
       "      <th></th>\n",
       "      <th>id</th>\n",
       "      <th>day</th>\n",
       "      <th>pressure</th>\n",
       "      <th>maxtemp</th>\n",
       "      <th>temparature</th>\n",
       "      <th>mintemp</th>\n",
       "      <th>dewpoint</th>\n",
       "      <th>humidity</th>\n",
       "      <th>cloud</th>\n",
       "      <th>sunshine</th>\n",
       "      <th>winddirection</th>\n",
       "      <th>windspeed</th>\n",
       "      <th>rainfall</th>\n",
       "      <th>month</th>\n",
       "    </tr>\n",
       "  </thead>\n",
       "  <tbody>\n",
       "    <tr>\n",
       "      <th>0</th>\n",
       "      <td>0</td>\n",
       "      <td>1</td>\n",
       "      <td>1017.4</td>\n",
       "      <td>21.2</td>\n",
       "      <td>20.6</td>\n",
       "      <td>19.9</td>\n",
       "      <td>19.4</td>\n",
       "      <td>87.0</td>\n",
       "      <td>88.0</td>\n",
       "      <td>1.1</td>\n",
       "      <td>60.0</td>\n",
       "      <td>17.2</td>\n",
       "      <td>1</td>\n",
       "      <td>Jan</td>\n",
       "    </tr>\n",
       "    <tr>\n",
       "      <th>1</th>\n",
       "      <td>1</td>\n",
       "      <td>2</td>\n",
       "      <td>1019.5</td>\n",
       "      <td>16.2</td>\n",
       "      <td>16.9</td>\n",
       "      <td>15.8</td>\n",
       "      <td>15.4</td>\n",
       "      <td>95.0</td>\n",
       "      <td>91.0</td>\n",
       "      <td>0.0</td>\n",
       "      <td>50.0</td>\n",
       "      <td>21.9</td>\n",
       "      <td>1</td>\n",
       "      <td>Jan</td>\n",
       "    </tr>\n",
       "    <tr>\n",
       "      <th>2</th>\n",
       "      <td>2</td>\n",
       "      <td>3</td>\n",
       "      <td>1024.1</td>\n",
       "      <td>19.4</td>\n",
       "      <td>16.1</td>\n",
       "      <td>14.6</td>\n",
       "      <td>9.3</td>\n",
       "      <td>75.0</td>\n",
       "      <td>47.0</td>\n",
       "      <td>8.3</td>\n",
       "      <td>70.0</td>\n",
       "      <td>18.1</td>\n",
       "      <td>1</td>\n",
       "      <td>Jan</td>\n",
       "    </tr>\n",
       "    <tr>\n",
       "      <th>3</th>\n",
       "      <td>3</td>\n",
       "      <td>4</td>\n",
       "      <td>1013.4</td>\n",
       "      <td>18.1</td>\n",
       "      <td>17.8</td>\n",
       "      <td>16.9</td>\n",
       "      <td>16.8</td>\n",
       "      <td>95.0</td>\n",
       "      <td>95.0</td>\n",
       "      <td>0.0</td>\n",
       "      <td>60.0</td>\n",
       "      <td>35.6</td>\n",
       "      <td>1</td>\n",
       "      <td>Jan</td>\n",
       "    </tr>\n",
       "    <tr>\n",
       "      <th>4</th>\n",
       "      <td>4</td>\n",
       "      <td>5</td>\n",
       "      <td>1021.8</td>\n",
       "      <td>21.3</td>\n",
       "      <td>18.4</td>\n",
       "      <td>15.2</td>\n",
       "      <td>9.6</td>\n",
       "      <td>52.0</td>\n",
       "      <td>45.0</td>\n",
       "      <td>3.6</td>\n",
       "      <td>40.0</td>\n",
       "      <td>24.8</td>\n",
       "      <td>0</td>\n",
       "      <td>Jan</td>\n",
       "    </tr>\n",
       "    <tr>\n",
       "      <th>...</th>\n",
       "      <td>...</td>\n",
       "      <td>...</td>\n",
       "      <td>...</td>\n",
       "      <td>...</td>\n",
       "      <td>...</td>\n",
       "      <td>...</td>\n",
       "      <td>...</td>\n",
       "      <td>...</td>\n",
       "      <td>...</td>\n",
       "      <td>...</td>\n",
       "      <td>...</td>\n",
       "      <td>...</td>\n",
       "      <td>...</td>\n",
       "      <td>...</td>\n",
       "    </tr>\n",
       "    <tr>\n",
       "      <th>2185</th>\n",
       "      <td>2185</td>\n",
       "      <td>361</td>\n",
       "      <td>1014.6</td>\n",
       "      <td>23.2</td>\n",
       "      <td>20.6</td>\n",
       "      <td>19.1</td>\n",
       "      <td>19.9</td>\n",
       "      <td>97.0</td>\n",
       "      <td>88.0</td>\n",
       "      <td>0.1</td>\n",
       "      <td>40.0</td>\n",
       "      <td>22.1</td>\n",
       "      <td>1</td>\n",
       "      <td>Dec</td>\n",
       "    </tr>\n",
       "    <tr>\n",
       "      <th>2186</th>\n",
       "      <td>2186</td>\n",
       "      <td>362</td>\n",
       "      <td>1012.4</td>\n",
       "      <td>17.2</td>\n",
       "      <td>17.3</td>\n",
       "      <td>16.3</td>\n",
       "      <td>15.3</td>\n",
       "      <td>91.0</td>\n",
       "      <td>88.0</td>\n",
       "      <td>0.0</td>\n",
       "      <td>50.0</td>\n",
       "      <td>35.3</td>\n",
       "      <td>1</td>\n",
       "      <td>Dec</td>\n",
       "    </tr>\n",
       "    <tr>\n",
       "      <th>2187</th>\n",
       "      <td>2187</td>\n",
       "      <td>363</td>\n",
       "      <td>1013.3</td>\n",
       "      <td>19.0</td>\n",
       "      <td>16.3</td>\n",
       "      <td>14.3</td>\n",
       "      <td>12.6</td>\n",
       "      <td>79.0</td>\n",
       "      <td>79.0</td>\n",
       "      <td>5.0</td>\n",
       "      <td>40.0</td>\n",
       "      <td>32.9</td>\n",
       "      <td>1</td>\n",
       "      <td>Dec</td>\n",
       "    </tr>\n",
       "    <tr>\n",
       "      <th>2188</th>\n",
       "      <td>2188</td>\n",
       "      <td>364</td>\n",
       "      <td>1022.3</td>\n",
       "      <td>16.4</td>\n",
       "      <td>15.2</td>\n",
       "      <td>13.8</td>\n",
       "      <td>14.7</td>\n",
       "      <td>92.0</td>\n",
       "      <td>93.0</td>\n",
       "      <td>0.1</td>\n",
       "      <td>40.0</td>\n",
       "      <td>18.0</td>\n",
       "      <td>1</td>\n",
       "      <td>Dec</td>\n",
       "    </tr>\n",
       "    <tr>\n",
       "      <th>2189</th>\n",
       "      <td>2189</td>\n",
       "      <td>365</td>\n",
       "      <td>1013.8</td>\n",
       "      <td>21.2</td>\n",
       "      <td>19.1</td>\n",
       "      <td>18.0</td>\n",
       "      <td>18.0</td>\n",
       "      <td>89.0</td>\n",
       "      <td>88.0</td>\n",
       "      <td>1.0</td>\n",
       "      <td>70.0</td>\n",
       "      <td>48.0</td>\n",
       "      <td>1</td>\n",
       "      <td>Dec</td>\n",
       "    </tr>\n",
       "  </tbody>\n",
       "</table>\n",
       "<p>2190 rows × 14 columns</p>\n",
       "</div>"
      ],
      "text/plain": [
       "        id  day  pressure  maxtemp  temparature  mintemp  dewpoint  humidity  \\\n",
       "0        0    1    1017.4     21.2         20.6     19.9      19.4      87.0   \n",
       "1        1    2    1019.5     16.2         16.9     15.8      15.4      95.0   \n",
       "2        2    3    1024.1     19.4         16.1     14.6       9.3      75.0   \n",
       "3        3    4    1013.4     18.1         17.8     16.9      16.8      95.0   \n",
       "4        4    5    1021.8     21.3         18.4     15.2       9.6      52.0   \n",
       "...    ...  ...       ...      ...          ...      ...       ...       ...   \n",
       "2185  2185  361    1014.6     23.2         20.6     19.1      19.9      97.0   \n",
       "2186  2186  362    1012.4     17.2         17.3     16.3      15.3      91.0   \n",
       "2187  2187  363    1013.3     19.0         16.3     14.3      12.6      79.0   \n",
       "2188  2188  364    1022.3     16.4         15.2     13.8      14.7      92.0   \n",
       "2189  2189  365    1013.8     21.2         19.1     18.0      18.0      89.0   \n",
       "\n",
       "      cloud  sunshine  winddirection  windspeed  rainfall month  \n",
       "0      88.0       1.1           60.0       17.2         1   Jan  \n",
       "1      91.0       0.0           50.0       21.9         1   Jan  \n",
       "2      47.0       8.3           70.0       18.1         1   Jan  \n",
       "3      95.0       0.0           60.0       35.6         1   Jan  \n",
       "4      45.0       3.6           40.0       24.8         0   Jan  \n",
       "...     ...       ...            ...        ...       ...   ...  \n",
       "2185   88.0       0.1           40.0       22.1         1   Dec  \n",
       "2186   88.0       0.0           50.0       35.3         1   Dec  \n",
       "2187   79.0       5.0           40.0       32.9         1   Dec  \n",
       "2188   93.0       0.1           40.0       18.0         1   Dec  \n",
       "2189   88.0       1.0           70.0       48.0         1   Dec  \n",
       "\n",
       "[2190 rows x 14 columns]"
      ]
     },
     "execution_count": 14,
     "metadata": {},
     "output_type": "execute_result"
    }
   ],
   "source": [
    "train"
   ]
  },
  {
   "cell_type": "code",
   "execution_count": 15,
   "id": "763b21ee",
   "metadata": {
    "execution": {
     "iopub.execute_input": "2025-03-24T21:38:40.153707Z",
     "iopub.status.busy": "2025-03-24T21:38:40.153291Z",
     "iopub.status.idle": "2025-03-24T21:38:40.158275Z",
     "shell.execute_reply": "2025-03-24T21:38:40.157342Z"
    },
    "papermill": {
     "duration": 0.020214,
     "end_time": "2025-03-24T21:38:40.159911",
     "exception": false,
     "start_time": "2025-03-24T21:38:40.139697",
     "status": "completed"
    },
    "tags": []
   },
   "outputs": [],
   "source": [
    "train['temp_range'] = train['maxtemp']-train['mintemp']"
   ]
  },
  {
   "cell_type": "code",
   "execution_count": 16,
   "id": "80e34bf3",
   "metadata": {
    "execution": {
     "iopub.execute_input": "2025-03-24T21:38:40.188002Z",
     "iopub.status.busy": "2025-03-24T21:38:40.187645Z",
     "iopub.status.idle": "2025-03-24T21:38:40.211887Z",
     "shell.execute_reply": "2025-03-24T21:38:40.210655Z"
    },
    "papermill": {
     "duration": 0.040942,
     "end_time": "2025-03-24T21:38:40.213849",
     "exception": false,
     "start_time": "2025-03-24T21:38:40.172907",
     "status": "completed"
    },
    "tags": []
   },
   "outputs": [
    {
     "data": {
      "text/html": [
       "<div>\n",
       "<style scoped>\n",
       "    .dataframe tbody tr th:only-of-type {\n",
       "        vertical-align: middle;\n",
       "    }\n",
       "\n",
       "    .dataframe tbody tr th {\n",
       "        vertical-align: top;\n",
       "    }\n",
       "\n",
       "    .dataframe thead th {\n",
       "        text-align: right;\n",
       "    }\n",
       "</style>\n",
       "<table border=\"1\" class=\"dataframe\">\n",
       "  <thead>\n",
       "    <tr style=\"text-align: right;\">\n",
       "      <th></th>\n",
       "      <th>id</th>\n",
       "      <th>day</th>\n",
       "      <th>pressure</th>\n",
       "      <th>maxtemp</th>\n",
       "      <th>temparature</th>\n",
       "      <th>mintemp</th>\n",
       "      <th>dewpoint</th>\n",
       "      <th>humidity</th>\n",
       "      <th>cloud</th>\n",
       "      <th>sunshine</th>\n",
       "      <th>winddirection</th>\n",
       "      <th>windspeed</th>\n",
       "      <th>rainfall</th>\n",
       "      <th>month</th>\n",
       "      <th>temp_range</th>\n",
       "    </tr>\n",
       "  </thead>\n",
       "  <tbody>\n",
       "    <tr>\n",
       "      <th>0</th>\n",
       "      <td>0</td>\n",
       "      <td>1</td>\n",
       "      <td>1017.4</td>\n",
       "      <td>21.2</td>\n",
       "      <td>20.6</td>\n",
       "      <td>19.9</td>\n",
       "      <td>19.4</td>\n",
       "      <td>87.0</td>\n",
       "      <td>88.0</td>\n",
       "      <td>1.1</td>\n",
       "      <td>60.0</td>\n",
       "      <td>17.2</td>\n",
       "      <td>1</td>\n",
       "      <td>Jan</td>\n",
       "      <td>1.3</td>\n",
       "    </tr>\n",
       "    <tr>\n",
       "      <th>1</th>\n",
       "      <td>1</td>\n",
       "      <td>2</td>\n",
       "      <td>1019.5</td>\n",
       "      <td>16.2</td>\n",
       "      <td>16.9</td>\n",
       "      <td>15.8</td>\n",
       "      <td>15.4</td>\n",
       "      <td>95.0</td>\n",
       "      <td>91.0</td>\n",
       "      <td>0.0</td>\n",
       "      <td>50.0</td>\n",
       "      <td>21.9</td>\n",
       "      <td>1</td>\n",
       "      <td>Jan</td>\n",
       "      <td>0.4</td>\n",
       "    </tr>\n",
       "    <tr>\n",
       "      <th>2</th>\n",
       "      <td>2</td>\n",
       "      <td>3</td>\n",
       "      <td>1024.1</td>\n",
       "      <td>19.4</td>\n",
       "      <td>16.1</td>\n",
       "      <td>14.6</td>\n",
       "      <td>9.3</td>\n",
       "      <td>75.0</td>\n",
       "      <td>47.0</td>\n",
       "      <td>8.3</td>\n",
       "      <td>70.0</td>\n",
       "      <td>18.1</td>\n",
       "      <td>1</td>\n",
       "      <td>Jan</td>\n",
       "      <td>4.8</td>\n",
       "    </tr>\n",
       "    <tr>\n",
       "      <th>3</th>\n",
       "      <td>3</td>\n",
       "      <td>4</td>\n",
       "      <td>1013.4</td>\n",
       "      <td>18.1</td>\n",
       "      <td>17.8</td>\n",
       "      <td>16.9</td>\n",
       "      <td>16.8</td>\n",
       "      <td>95.0</td>\n",
       "      <td>95.0</td>\n",
       "      <td>0.0</td>\n",
       "      <td>60.0</td>\n",
       "      <td>35.6</td>\n",
       "      <td>1</td>\n",
       "      <td>Jan</td>\n",
       "      <td>1.2</td>\n",
       "    </tr>\n",
       "    <tr>\n",
       "      <th>4</th>\n",
       "      <td>4</td>\n",
       "      <td>5</td>\n",
       "      <td>1021.8</td>\n",
       "      <td>21.3</td>\n",
       "      <td>18.4</td>\n",
       "      <td>15.2</td>\n",
       "      <td>9.6</td>\n",
       "      <td>52.0</td>\n",
       "      <td>45.0</td>\n",
       "      <td>3.6</td>\n",
       "      <td>40.0</td>\n",
       "      <td>24.8</td>\n",
       "      <td>0</td>\n",
       "      <td>Jan</td>\n",
       "      <td>6.1</td>\n",
       "    </tr>\n",
       "    <tr>\n",
       "      <th>...</th>\n",
       "      <td>...</td>\n",
       "      <td>...</td>\n",
       "      <td>...</td>\n",
       "      <td>...</td>\n",
       "      <td>...</td>\n",
       "      <td>...</td>\n",
       "      <td>...</td>\n",
       "      <td>...</td>\n",
       "      <td>...</td>\n",
       "      <td>...</td>\n",
       "      <td>...</td>\n",
       "      <td>...</td>\n",
       "      <td>...</td>\n",
       "      <td>...</td>\n",
       "      <td>...</td>\n",
       "    </tr>\n",
       "    <tr>\n",
       "      <th>2185</th>\n",
       "      <td>2185</td>\n",
       "      <td>361</td>\n",
       "      <td>1014.6</td>\n",
       "      <td>23.2</td>\n",
       "      <td>20.6</td>\n",
       "      <td>19.1</td>\n",
       "      <td>19.9</td>\n",
       "      <td>97.0</td>\n",
       "      <td>88.0</td>\n",
       "      <td>0.1</td>\n",
       "      <td>40.0</td>\n",
       "      <td>22.1</td>\n",
       "      <td>1</td>\n",
       "      <td>Dec</td>\n",
       "      <td>4.1</td>\n",
       "    </tr>\n",
       "    <tr>\n",
       "      <th>2186</th>\n",
       "      <td>2186</td>\n",
       "      <td>362</td>\n",
       "      <td>1012.4</td>\n",
       "      <td>17.2</td>\n",
       "      <td>17.3</td>\n",
       "      <td>16.3</td>\n",
       "      <td>15.3</td>\n",
       "      <td>91.0</td>\n",
       "      <td>88.0</td>\n",
       "      <td>0.0</td>\n",
       "      <td>50.0</td>\n",
       "      <td>35.3</td>\n",
       "      <td>1</td>\n",
       "      <td>Dec</td>\n",
       "      <td>0.9</td>\n",
       "    </tr>\n",
       "    <tr>\n",
       "      <th>2187</th>\n",
       "      <td>2187</td>\n",
       "      <td>363</td>\n",
       "      <td>1013.3</td>\n",
       "      <td>19.0</td>\n",
       "      <td>16.3</td>\n",
       "      <td>14.3</td>\n",
       "      <td>12.6</td>\n",
       "      <td>79.0</td>\n",
       "      <td>79.0</td>\n",
       "      <td>5.0</td>\n",
       "      <td>40.0</td>\n",
       "      <td>32.9</td>\n",
       "      <td>1</td>\n",
       "      <td>Dec</td>\n",
       "      <td>4.7</td>\n",
       "    </tr>\n",
       "    <tr>\n",
       "      <th>2188</th>\n",
       "      <td>2188</td>\n",
       "      <td>364</td>\n",
       "      <td>1022.3</td>\n",
       "      <td>16.4</td>\n",
       "      <td>15.2</td>\n",
       "      <td>13.8</td>\n",
       "      <td>14.7</td>\n",
       "      <td>92.0</td>\n",
       "      <td>93.0</td>\n",
       "      <td>0.1</td>\n",
       "      <td>40.0</td>\n",
       "      <td>18.0</td>\n",
       "      <td>1</td>\n",
       "      <td>Dec</td>\n",
       "      <td>2.6</td>\n",
       "    </tr>\n",
       "    <tr>\n",
       "      <th>2189</th>\n",
       "      <td>2189</td>\n",
       "      <td>365</td>\n",
       "      <td>1013.8</td>\n",
       "      <td>21.2</td>\n",
       "      <td>19.1</td>\n",
       "      <td>18.0</td>\n",
       "      <td>18.0</td>\n",
       "      <td>89.0</td>\n",
       "      <td>88.0</td>\n",
       "      <td>1.0</td>\n",
       "      <td>70.0</td>\n",
       "      <td>48.0</td>\n",
       "      <td>1</td>\n",
       "      <td>Dec</td>\n",
       "      <td>3.2</td>\n",
       "    </tr>\n",
       "  </tbody>\n",
       "</table>\n",
       "<p>2190 rows × 15 columns</p>\n",
       "</div>"
      ],
      "text/plain": [
       "        id  day  pressure  maxtemp  temparature  mintemp  dewpoint  humidity  \\\n",
       "0        0    1    1017.4     21.2         20.6     19.9      19.4      87.0   \n",
       "1        1    2    1019.5     16.2         16.9     15.8      15.4      95.0   \n",
       "2        2    3    1024.1     19.4         16.1     14.6       9.3      75.0   \n",
       "3        3    4    1013.4     18.1         17.8     16.9      16.8      95.0   \n",
       "4        4    5    1021.8     21.3         18.4     15.2       9.6      52.0   \n",
       "...    ...  ...       ...      ...          ...      ...       ...       ...   \n",
       "2185  2185  361    1014.6     23.2         20.6     19.1      19.9      97.0   \n",
       "2186  2186  362    1012.4     17.2         17.3     16.3      15.3      91.0   \n",
       "2187  2187  363    1013.3     19.0         16.3     14.3      12.6      79.0   \n",
       "2188  2188  364    1022.3     16.4         15.2     13.8      14.7      92.0   \n",
       "2189  2189  365    1013.8     21.2         19.1     18.0      18.0      89.0   \n",
       "\n",
       "      cloud  sunshine  winddirection  windspeed  rainfall month  temp_range  \n",
       "0      88.0       1.1           60.0       17.2         1   Jan         1.3  \n",
       "1      91.0       0.0           50.0       21.9         1   Jan         0.4  \n",
       "2      47.0       8.3           70.0       18.1         1   Jan         4.8  \n",
       "3      95.0       0.0           60.0       35.6         1   Jan         1.2  \n",
       "4      45.0       3.6           40.0       24.8         0   Jan         6.1  \n",
       "...     ...       ...            ...        ...       ...   ...         ...  \n",
       "2185   88.0       0.1           40.0       22.1         1   Dec         4.1  \n",
       "2186   88.0       0.0           50.0       35.3         1   Dec         0.9  \n",
       "2187   79.0       5.0           40.0       32.9         1   Dec         4.7  \n",
       "2188   93.0       0.1           40.0       18.0         1   Dec         2.6  \n",
       "2189   88.0       1.0           70.0       48.0         1   Dec         3.2  \n",
       "\n",
       "[2190 rows x 15 columns]"
      ]
     },
     "execution_count": 16,
     "metadata": {},
     "output_type": "execute_result"
    }
   ],
   "source": [
    "train"
   ]
  },
  {
   "cell_type": "code",
   "execution_count": 17,
   "id": "7915fc5c",
   "metadata": {
    "execution": {
     "iopub.execute_input": "2025-03-24T21:38:40.241365Z",
     "iopub.status.busy": "2025-03-24T21:38:40.241015Z",
     "iopub.status.idle": "2025-03-24T21:38:40.245830Z",
     "shell.execute_reply": "2025-03-24T21:38:40.244854Z"
    },
    "papermill": {
     "duration": 0.020189,
     "end_time": "2025-03-24T21:38:40.247381",
     "exception": false,
     "start_time": "2025-03-24T21:38:40.227192",
     "status": "completed"
    },
    "tags": []
   },
   "outputs": [],
   "source": [
    "train['temperature'] = train['temparature'] ## fixing the annoying spelling error"
   ]
  },
  {
   "cell_type": "code",
   "execution_count": 18,
   "id": "c41f587e",
   "metadata": {
    "execution": {
     "iopub.execute_input": "2025-03-24T21:38:40.274534Z",
     "iopub.status.busy": "2025-03-24T21:38:40.274180Z",
     "iopub.status.idle": "2025-03-24T21:38:40.279439Z",
     "shell.execute_reply": "2025-03-24T21:38:40.278638Z"
    },
    "papermill": {
     "duration": 0.020556,
     "end_time": "2025-03-24T21:38:40.281075",
     "exception": false,
     "start_time": "2025-03-24T21:38:40.260519",
     "status": "completed"
    },
    "tags": []
   },
   "outputs": [],
   "source": [
    "train_final = train.drop(columns = ['id','day','temparature','maxtemp','mintemp','dewpoint'])"
   ]
  },
  {
   "cell_type": "code",
   "execution_count": 19,
   "id": "4ba88629",
   "metadata": {
    "execution": {
     "iopub.execute_input": "2025-03-24T21:38:40.307962Z",
     "iopub.status.busy": "2025-03-24T21:38:40.307632Z",
     "iopub.status.idle": "2025-03-24T21:38:40.325880Z",
     "shell.execute_reply": "2025-03-24T21:38:40.324738Z"
    },
    "papermill": {
     "duration": 0.033542,
     "end_time": "2025-03-24T21:38:40.327597",
     "exception": false,
     "start_time": "2025-03-24T21:38:40.294055",
     "status": "completed"
    },
    "tags": []
   },
   "outputs": [
    {
     "data": {
      "text/html": [
       "<div>\n",
       "<style scoped>\n",
       "    .dataframe tbody tr th:only-of-type {\n",
       "        vertical-align: middle;\n",
       "    }\n",
       "\n",
       "    .dataframe tbody tr th {\n",
       "        vertical-align: top;\n",
       "    }\n",
       "\n",
       "    .dataframe thead th {\n",
       "        text-align: right;\n",
       "    }\n",
       "</style>\n",
       "<table border=\"1\" class=\"dataframe\">\n",
       "  <thead>\n",
       "    <tr style=\"text-align: right;\">\n",
       "      <th></th>\n",
       "      <th>pressure</th>\n",
       "      <th>humidity</th>\n",
       "      <th>cloud</th>\n",
       "      <th>sunshine</th>\n",
       "      <th>winddirection</th>\n",
       "      <th>windspeed</th>\n",
       "      <th>rainfall</th>\n",
       "      <th>month</th>\n",
       "      <th>temp_range</th>\n",
       "      <th>temperature</th>\n",
       "    </tr>\n",
       "  </thead>\n",
       "  <tbody>\n",
       "    <tr>\n",
       "      <th>0</th>\n",
       "      <td>1017.4</td>\n",
       "      <td>87.0</td>\n",
       "      <td>88.0</td>\n",
       "      <td>1.1</td>\n",
       "      <td>60.0</td>\n",
       "      <td>17.2</td>\n",
       "      <td>1</td>\n",
       "      <td>Jan</td>\n",
       "      <td>1.3</td>\n",
       "      <td>20.6</td>\n",
       "    </tr>\n",
       "    <tr>\n",
       "      <th>1</th>\n",
       "      <td>1019.5</td>\n",
       "      <td>95.0</td>\n",
       "      <td>91.0</td>\n",
       "      <td>0.0</td>\n",
       "      <td>50.0</td>\n",
       "      <td>21.9</td>\n",
       "      <td>1</td>\n",
       "      <td>Jan</td>\n",
       "      <td>0.4</td>\n",
       "      <td>16.9</td>\n",
       "    </tr>\n",
       "    <tr>\n",
       "      <th>2</th>\n",
       "      <td>1024.1</td>\n",
       "      <td>75.0</td>\n",
       "      <td>47.0</td>\n",
       "      <td>8.3</td>\n",
       "      <td>70.0</td>\n",
       "      <td>18.1</td>\n",
       "      <td>1</td>\n",
       "      <td>Jan</td>\n",
       "      <td>4.8</td>\n",
       "      <td>16.1</td>\n",
       "    </tr>\n",
       "    <tr>\n",
       "      <th>3</th>\n",
       "      <td>1013.4</td>\n",
       "      <td>95.0</td>\n",
       "      <td>95.0</td>\n",
       "      <td>0.0</td>\n",
       "      <td>60.0</td>\n",
       "      <td>35.6</td>\n",
       "      <td>1</td>\n",
       "      <td>Jan</td>\n",
       "      <td>1.2</td>\n",
       "      <td>17.8</td>\n",
       "    </tr>\n",
       "    <tr>\n",
       "      <th>4</th>\n",
       "      <td>1021.8</td>\n",
       "      <td>52.0</td>\n",
       "      <td>45.0</td>\n",
       "      <td>3.6</td>\n",
       "      <td>40.0</td>\n",
       "      <td>24.8</td>\n",
       "      <td>0</td>\n",
       "      <td>Jan</td>\n",
       "      <td>6.1</td>\n",
       "      <td>18.4</td>\n",
       "    </tr>\n",
       "    <tr>\n",
       "      <th>...</th>\n",
       "      <td>...</td>\n",
       "      <td>...</td>\n",
       "      <td>...</td>\n",
       "      <td>...</td>\n",
       "      <td>...</td>\n",
       "      <td>...</td>\n",
       "      <td>...</td>\n",
       "      <td>...</td>\n",
       "      <td>...</td>\n",
       "      <td>...</td>\n",
       "    </tr>\n",
       "    <tr>\n",
       "      <th>2185</th>\n",
       "      <td>1014.6</td>\n",
       "      <td>97.0</td>\n",
       "      <td>88.0</td>\n",
       "      <td>0.1</td>\n",
       "      <td>40.0</td>\n",
       "      <td>22.1</td>\n",
       "      <td>1</td>\n",
       "      <td>Dec</td>\n",
       "      <td>4.1</td>\n",
       "      <td>20.6</td>\n",
       "    </tr>\n",
       "    <tr>\n",
       "      <th>2186</th>\n",
       "      <td>1012.4</td>\n",
       "      <td>91.0</td>\n",
       "      <td>88.0</td>\n",
       "      <td>0.0</td>\n",
       "      <td>50.0</td>\n",
       "      <td>35.3</td>\n",
       "      <td>1</td>\n",
       "      <td>Dec</td>\n",
       "      <td>0.9</td>\n",
       "      <td>17.3</td>\n",
       "    </tr>\n",
       "    <tr>\n",
       "      <th>2187</th>\n",
       "      <td>1013.3</td>\n",
       "      <td>79.0</td>\n",
       "      <td>79.0</td>\n",
       "      <td>5.0</td>\n",
       "      <td>40.0</td>\n",
       "      <td>32.9</td>\n",
       "      <td>1</td>\n",
       "      <td>Dec</td>\n",
       "      <td>4.7</td>\n",
       "      <td>16.3</td>\n",
       "    </tr>\n",
       "    <tr>\n",
       "      <th>2188</th>\n",
       "      <td>1022.3</td>\n",
       "      <td>92.0</td>\n",
       "      <td>93.0</td>\n",
       "      <td>0.1</td>\n",
       "      <td>40.0</td>\n",
       "      <td>18.0</td>\n",
       "      <td>1</td>\n",
       "      <td>Dec</td>\n",
       "      <td>2.6</td>\n",
       "      <td>15.2</td>\n",
       "    </tr>\n",
       "    <tr>\n",
       "      <th>2189</th>\n",
       "      <td>1013.8</td>\n",
       "      <td>89.0</td>\n",
       "      <td>88.0</td>\n",
       "      <td>1.0</td>\n",
       "      <td>70.0</td>\n",
       "      <td>48.0</td>\n",
       "      <td>1</td>\n",
       "      <td>Dec</td>\n",
       "      <td>3.2</td>\n",
       "      <td>19.1</td>\n",
       "    </tr>\n",
       "  </tbody>\n",
       "</table>\n",
       "<p>2190 rows × 10 columns</p>\n",
       "</div>"
      ],
      "text/plain": [
       "      pressure  humidity  cloud  sunshine  winddirection  windspeed  rainfall  \\\n",
       "0       1017.4      87.0   88.0       1.1           60.0       17.2         1   \n",
       "1       1019.5      95.0   91.0       0.0           50.0       21.9         1   \n",
       "2       1024.1      75.0   47.0       8.3           70.0       18.1         1   \n",
       "3       1013.4      95.0   95.0       0.0           60.0       35.6         1   \n",
       "4       1021.8      52.0   45.0       3.6           40.0       24.8         0   \n",
       "...        ...       ...    ...       ...            ...        ...       ...   \n",
       "2185    1014.6      97.0   88.0       0.1           40.0       22.1         1   \n",
       "2186    1012.4      91.0   88.0       0.0           50.0       35.3         1   \n",
       "2187    1013.3      79.0   79.0       5.0           40.0       32.9         1   \n",
       "2188    1022.3      92.0   93.0       0.1           40.0       18.0         1   \n",
       "2189    1013.8      89.0   88.0       1.0           70.0       48.0         1   \n",
       "\n",
       "     month  temp_range  temperature  \n",
       "0      Jan         1.3         20.6  \n",
       "1      Jan         0.4         16.9  \n",
       "2      Jan         4.8         16.1  \n",
       "3      Jan         1.2         17.8  \n",
       "4      Jan         6.1         18.4  \n",
       "...    ...         ...          ...  \n",
       "2185   Dec         4.1         20.6  \n",
       "2186   Dec         0.9         17.3  \n",
       "2187   Dec         4.7         16.3  \n",
       "2188   Dec         2.6         15.2  \n",
       "2189   Dec         3.2         19.1  \n",
       "\n",
       "[2190 rows x 10 columns]"
      ]
     },
     "execution_count": 19,
     "metadata": {},
     "output_type": "execute_result"
    }
   ],
   "source": [
    "train_final"
   ]
  },
  {
   "cell_type": "code",
   "execution_count": 20,
   "id": "9bf01fb1",
   "metadata": {
    "execution": {
     "iopub.execute_input": "2025-03-24T21:38:40.355867Z",
     "iopub.status.busy": "2025-03-24T21:38:40.355492Z",
     "iopub.status.idle": "2025-03-24T21:38:40.359512Z",
     "shell.execute_reply": "2025-03-24T21:38:40.358571Z"
    },
    "papermill": {
     "duration": 0.019823,
     "end_time": "2025-03-24T21:38:40.361047",
     "exception": false,
     "start_time": "2025-03-24T21:38:40.341224",
     "status": "completed"
    },
    "tags": []
   },
   "outputs": [],
   "source": [
    "##Lets train"
   ]
  },
  {
   "cell_type": "code",
   "execution_count": 21,
   "id": "75c63bda",
   "metadata": {
    "execution": {
     "iopub.execute_input": "2025-03-24T21:38:40.388683Z",
     "iopub.status.busy": "2025-03-24T21:38:40.388250Z",
     "iopub.status.idle": "2025-03-24T21:38:40.400706Z",
     "shell.execute_reply": "2025-03-24T21:38:40.399558Z"
    },
    "papermill": {
     "duration": 0.028467,
     "end_time": "2025-03-24T21:38:40.402789",
     "exception": false,
     "start_time": "2025-03-24T21:38:40.374322",
     "status": "completed"
    },
    "tags": []
   },
   "outputs": [],
   "source": [
    "train_ohe = pd.get_dummies(train_final, columns=['month'], drop_first=True) ##OHE for the logistic regression\n",
    "X_ohe = train_ohe.drop(columns='rainfall')\n",
    "y = train_ohe['rainfall']"
   ]
  },
  {
   "cell_type": "code",
   "execution_count": 22,
   "id": "ab38f21a",
   "metadata": {
    "execution": {
     "iopub.execute_input": "2025-03-24T21:38:40.430877Z",
     "iopub.status.busy": "2025-03-24T21:38:40.430507Z",
     "iopub.status.idle": "2025-03-24T21:38:40.437989Z",
     "shell.execute_reply": "2025-03-24T21:38:40.437063Z"
    },
    "papermill": {
     "duration": 0.023604,
     "end_time": "2025-03-24T21:38:40.439635",
     "exception": false,
     "start_time": "2025-03-24T21:38:40.416031",
     "status": "completed"
    },
    "tags": []
   },
   "outputs": [],
   "source": [
    "train_le = train_final.copy() ## label encoding for XGboost\n",
    "train_le['month'] = LabelEncoder().fit_transform(train_le['month'])\n",
    "X_le = train_le.drop(columns='rainfall')\n",
    "y = train_le['rainfall']"
   ]
  },
  {
   "cell_type": "code",
   "execution_count": 23,
   "id": "9bc256bd",
   "metadata": {
    "execution": {
     "iopub.execute_input": "2025-03-24T21:38:40.467070Z",
     "iopub.status.busy": "2025-03-24T21:38:40.466712Z",
     "iopub.status.idle": "2025-03-24T21:38:40.475087Z",
     "shell.execute_reply": "2025-03-24T21:38:40.474243Z"
    },
    "papermill": {
     "duration": 0.023887,
     "end_time": "2025-03-24T21:38:40.476688",
     "exception": false,
     "start_time": "2025-03-24T21:38:40.452801",
     "status": "completed"
    },
    "tags": []
   },
   "outputs": [],
   "source": [
    "X_train_ohe, X_test_ohe, y_train, y_test = train_test_split(X_ohe, y, test_size=0.2, random_state=4444)\n",
    "X_train_le, X_test_le, _, _ = train_test_split(X_le, y, test_size=0.2, random_state=4444)"
   ]
  },
  {
   "cell_type": "code",
   "execution_count": 24,
   "id": "abfd1d1b",
   "metadata": {
    "execution": {
     "iopub.execute_input": "2025-03-24T21:38:40.504947Z",
     "iopub.status.busy": "2025-03-24T21:38:40.504424Z",
     "iopub.status.idle": "2025-03-24T21:38:41.071806Z",
     "shell.execute_reply": "2025-03-24T21:38:41.070929Z"
    },
    "papermill": {
     "duration": 0.583199,
     "end_time": "2025-03-24T21:38:41.073494",
     "exception": false,
     "start_time": "2025-03-24T21:38:40.490295",
     "status": "completed"
    },
    "tags": []
   },
   "outputs": [
    {
     "data": {
      "text/html": [
       "<style>#sk-container-id-1 {color: black;background-color: white;}#sk-container-id-1 pre{padding: 0;}#sk-container-id-1 div.sk-toggleable {background-color: white;}#sk-container-id-1 label.sk-toggleable__label {cursor: pointer;display: block;width: 100%;margin-bottom: 0;padding: 0.3em;box-sizing: border-box;text-align: center;}#sk-container-id-1 label.sk-toggleable__label-arrow:before {content: \"▸\";float: left;margin-right: 0.25em;color: #696969;}#sk-container-id-1 label.sk-toggleable__label-arrow:hover:before {color: black;}#sk-container-id-1 div.sk-estimator:hover label.sk-toggleable__label-arrow:before {color: black;}#sk-container-id-1 div.sk-toggleable__content {max-height: 0;max-width: 0;overflow: hidden;text-align: left;background-color: #f0f8ff;}#sk-container-id-1 div.sk-toggleable__content pre {margin: 0.2em;color: black;border-radius: 0.25em;background-color: #f0f8ff;}#sk-container-id-1 input.sk-toggleable__control:checked~div.sk-toggleable__content {max-height: 200px;max-width: 100%;overflow: auto;}#sk-container-id-1 input.sk-toggleable__control:checked~label.sk-toggleable__label-arrow:before {content: \"▾\";}#sk-container-id-1 div.sk-estimator input.sk-toggleable__control:checked~label.sk-toggleable__label {background-color: #d4ebff;}#sk-container-id-1 div.sk-label input.sk-toggleable__control:checked~label.sk-toggleable__label {background-color: #d4ebff;}#sk-container-id-1 input.sk-hidden--visually {border: 0;clip: rect(1px 1px 1px 1px);clip: rect(1px, 1px, 1px, 1px);height: 1px;margin: -1px;overflow: hidden;padding: 0;position: absolute;width: 1px;}#sk-container-id-1 div.sk-estimator {font-family: monospace;background-color: #f0f8ff;border: 1px dotted black;border-radius: 0.25em;box-sizing: border-box;margin-bottom: 0.5em;}#sk-container-id-1 div.sk-estimator:hover {background-color: #d4ebff;}#sk-container-id-1 div.sk-parallel-item::after {content: \"\";width: 100%;border-bottom: 1px solid gray;flex-grow: 1;}#sk-container-id-1 div.sk-label:hover label.sk-toggleable__label {background-color: #d4ebff;}#sk-container-id-1 div.sk-serial::before {content: \"\";position: absolute;border-left: 1px solid gray;box-sizing: border-box;top: 0;bottom: 0;left: 50%;z-index: 0;}#sk-container-id-1 div.sk-serial {display: flex;flex-direction: column;align-items: center;background-color: white;padding-right: 0.2em;padding-left: 0.2em;position: relative;}#sk-container-id-1 div.sk-item {position: relative;z-index: 1;}#sk-container-id-1 div.sk-parallel {display: flex;align-items: stretch;justify-content: center;background-color: white;position: relative;}#sk-container-id-1 div.sk-item::before, #sk-container-id-1 div.sk-parallel-item::before {content: \"\";position: absolute;border-left: 1px solid gray;box-sizing: border-box;top: 0;bottom: 0;left: 50%;z-index: -1;}#sk-container-id-1 div.sk-parallel-item {display: flex;flex-direction: column;z-index: 1;position: relative;background-color: white;}#sk-container-id-1 div.sk-parallel-item:first-child::after {align-self: flex-end;width: 50%;}#sk-container-id-1 div.sk-parallel-item:last-child::after {align-self: flex-start;width: 50%;}#sk-container-id-1 div.sk-parallel-item:only-child::after {width: 0;}#sk-container-id-1 div.sk-dashed-wrapped {border: 1px dashed gray;margin: 0 0.4em 0.5em 0.4em;box-sizing: border-box;padding-bottom: 0.4em;background-color: white;}#sk-container-id-1 div.sk-label label {font-family: monospace;font-weight: bold;display: inline-block;line-height: 1.2em;}#sk-container-id-1 div.sk-label-container {text-align: center;}#sk-container-id-1 div.sk-container {/* jupyter's `normalize.less` sets `[hidden] { display: none; }` but bootstrap.min.css set `[hidden] { display: none !important; }` so we also need the `!important` here to be able to override the default hidden behavior on the sphinx rendered scikit-learn.org. See: https://github.com/scikit-learn/scikit-learn/issues/21755 */display: inline-block !important;position: relative;}#sk-container-id-1 div.sk-text-repr-fallback {display: none;}</style><div id=\"sk-container-id-1\" class=\"sk-top-container\"><div class=\"sk-text-repr-fallback\"><pre>Pipeline(steps=[(&#x27;standardscaler&#x27;, StandardScaler()),\n",
       "                (&#x27;logisticregression&#x27;,\n",
       "                 LogisticRegression(max_iter=1000, random_state=4444))])</pre><b>In a Jupyter environment, please rerun this cell to show the HTML representation or trust the notebook. <br />On GitHub, the HTML representation is unable to render, please try loading this page with nbviewer.org.</b></div><div class=\"sk-container\" hidden><div class=\"sk-item sk-dashed-wrapped\"><div class=\"sk-label-container\"><div class=\"sk-label sk-toggleable\"><input class=\"sk-toggleable__control sk-hidden--visually\" id=\"sk-estimator-id-1\" type=\"checkbox\" ><label for=\"sk-estimator-id-1\" class=\"sk-toggleable__label sk-toggleable__label-arrow\">Pipeline</label><div class=\"sk-toggleable__content\"><pre>Pipeline(steps=[(&#x27;standardscaler&#x27;, StandardScaler()),\n",
       "                (&#x27;logisticregression&#x27;,\n",
       "                 LogisticRegression(max_iter=1000, random_state=4444))])</pre></div></div></div><div class=\"sk-serial\"><div class=\"sk-item\"><div class=\"sk-estimator sk-toggleable\"><input class=\"sk-toggleable__control sk-hidden--visually\" id=\"sk-estimator-id-2\" type=\"checkbox\" ><label for=\"sk-estimator-id-2\" class=\"sk-toggleable__label sk-toggleable__label-arrow\">StandardScaler</label><div class=\"sk-toggleable__content\"><pre>StandardScaler()</pre></div></div></div><div class=\"sk-item\"><div class=\"sk-estimator sk-toggleable\"><input class=\"sk-toggleable__control sk-hidden--visually\" id=\"sk-estimator-id-3\" type=\"checkbox\" ><label for=\"sk-estimator-id-3\" class=\"sk-toggleable__label sk-toggleable__label-arrow\">LogisticRegression</label><div class=\"sk-toggleable__content\"><pre>LogisticRegression(max_iter=1000, random_state=4444)</pre></div></div></div></div></div></div></div>"
      ],
      "text/plain": [
       "Pipeline(steps=[('standardscaler', StandardScaler()),\n",
       "                ('logisticregression',\n",
       "                 LogisticRegression(max_iter=1000, random_state=4444))])"
      ]
     },
     "execution_count": 24,
     "metadata": {},
     "output_type": "execute_result"
    }
   ],
   "source": [
    "## Random Forest\n",
    "rf = RandomForestClassifier(random_state=4444)\n",
    "rf.fit(X_train_ohe, y_train)\n",
    "\n",
    "## XGBoost \n",
    "xgb = XGBClassifier(use_label_encoder=False, eval_metric='logloss', random_state=4444)\n",
    "xgb.fit(X_train_le, y_train)\n",
    "\n",
    "## Logistic Regression\n",
    "logreg = make_pipeline(\n",
    "    StandardScaler(),\n",
    "    LogisticRegression(max_iter=1000, random_state=4444)\n",
    ")\n",
    "logreg.fit(X_train_ohe, y_train)"
   ]
  },
  {
   "cell_type": "code",
   "execution_count": 25,
   "id": "cc432aec",
   "metadata": {
    "execution": {
     "iopub.execute_input": "2025-03-24T21:38:41.102613Z",
     "iopub.status.busy": "2025-03-24T21:38:41.102176Z",
     "iopub.status.idle": "2025-03-24T21:38:41.141672Z",
     "shell.execute_reply": "2025-03-24T21:38:41.139669Z"
    },
    "papermill": {
     "duration": 0.055218,
     "end_time": "2025-03-24T21:38:41.143327",
     "exception": false,
     "start_time": "2025-03-24T21:38:41.088109",
     "status": "completed"
    },
    "tags": []
   },
   "outputs": [
    {
     "name": "stdout",
     "output_type": "stream",
     "text": [
      "AUC - Random Forest:       0.8514\n",
      "AUC - XGBoost:             0.8403\n",
      "AUC - Logistic Regression: 0.8749\n"
     ]
    }
   ],
   "source": [
    "## Get probability predictions\n",
    "rf_probs = rf.predict_proba(X_test_ohe)[:, 1]\n",
    "xgb_probs = xgb.predict_proba(X_test_le)[:, 1]\n",
    "logreg_probs = logreg.predict_proba(X_test_ohe)[:, 1]\n",
    "\n",
    "## Compute AUC scores\n",
    "auc_rf = roc_auc_score(y_test, rf_probs)\n",
    "auc_xgb = roc_auc_score(y_test, xgb_probs)\n",
    "auc_logreg = roc_auc_score(y_test, logreg_probs)\n",
    "\n",
    "print(f\"AUC - Random Forest:       {auc_rf:.4f}\")\n",
    "print(f\"AUC - XGBoost:             {auc_xgb:.4f}\")\n",
    "print(f\"AUC - Logistic Regression: {auc_logreg:.4f}\")"
   ]
  },
  {
   "cell_type": "code",
   "execution_count": 26,
   "id": "a12c7336",
   "metadata": {
    "execution": {
     "iopub.execute_input": "2025-03-24T21:38:41.179306Z",
     "iopub.status.busy": "2025-03-24T21:38:41.178803Z",
     "iopub.status.idle": "2025-03-24T21:38:41.474917Z",
     "shell.execute_reply": "2025-03-24T21:38:41.473919Z"
    },
    "papermill": {
     "duration": 0.313508,
     "end_time": "2025-03-24T21:38:41.476569",
     "exception": false,
     "start_time": "2025-03-24T21:38:41.163061",
     "status": "completed"
    },
    "tags": []
   },
   "outputs": [
    {
     "data": {
      "image/png": "[encoded data removed]",
      "text/plain": [
       "<Figure size 800x600 with 1 Axes>"
      ]
     },
     "metadata": {},
     "output_type": "display_data"
    }
   ],
   "source": [
    "fpr_rf, tpr_rf, _ = roc_curve(y_test, rf_probs)\n",
    "fpr_xgb, tpr_xgb, _ = roc_curve(y_test, xgb_probs)\n",
    "fpr_log, tpr_log, _ = roc_curve(y_test, logreg_probs)\n",
    "\n",
    "plt.figure(figsize=(8, 6))\n",
    "plt.plot(fpr_rf, tpr_rf, label=f'Random Forest (AUC = {auc_rf:.2f})')\n",
    "plt.plot(fpr_xgb, tpr_xgb, label=f'XGBoost (AUC = {auc_xgb:.2f})')\n",
    "plt.plot(fpr_log, tpr_log, label=f'Logistic Regression (AUC = {auc_logreg:.2f})')\n",
    "plt.plot([0, 1], [0, 1], 'k--', label='Chance')\n",
    "plt.xlabel('False Positive Rate')\n",
    "plt.ylabel('True Positive Rate')\n",
    "plt.title('ROC Curve')\n",
    "plt.legend()\n",
    "plt.grid(True)\n",
    "plt.tight_layout()\n",
    "plt.show()"
   ]
  },
  {
   "cell_type": "code",
   "execution_count": 27,
   "id": "e92c09b4",
   "metadata": {
    "execution": {
     "iopub.execute_input": "2025-03-24T21:38:41.508423Z",
     "iopub.status.busy": "2025-03-24T21:38:41.508102Z",
     "iopub.status.idle": "2025-03-24T21:38:46.203088Z",
     "shell.execute_reply": "2025-03-24T21:38:46.200875Z"
    },
    "papermill": {
     "duration": 4.712683,
     "end_time": "2025-03-24T21:38:46.204995",
     "exception": false,
     "start_time": "2025-03-24T21:38:41.492312",
     "status": "completed"
    },
    "tags": []
   },
   "outputs": [
    {
     "name": "stdout",
     "output_type": "stream",
     "text": [
      "Cross-validated AUC - Random Forest:       0.8757 ± 0.0306\n",
      "Cross-validated AUC - XGBoost:             0.8601 ± 0.0312\n",
      "Cross-validated AUC - Logistic Regression: 0.8851 ± 0.0196\n"
     ]
    }
   ],
   "source": [
    "## Lets try cross validation to ensure that logistic regression is actually the best\n",
    "cv_rf = cross_val_score(rf, X_ohe, y, cv=10, scoring='roc_auc')\n",
    "cv_logreg = cross_val_score(logreg, X_ohe, y, cv=10, scoring='roc_auc')\n",
    "cv_xgb = cross_val_score(xgb, X_le, y, cv=10, scoring='roc_auc')\n",
    "\n",
    "print(f\"Cross-validated AUC - Random Forest:       {cv_rf.mean():.4f} ± {cv_rf.std():.4f}\")\n",
    "print(f\"Cross-validated AUC - XGBoost:             {cv_xgb.mean():.4f} ± {cv_xgb.std():.4f}\")\n",
    "print(f\"Cross-validated AUC - Logistic Regression: {cv_logreg.mean():.4f} ± {cv_logreg.std():.4f}\")"
   ]
  },
  {
   "cell_type": "code",
   "execution_count": 28,
   "id": "c64a4a1a",
   "metadata": {
    "execution": {
     "iopub.execute_input": "2025-03-24T21:38:46.237844Z",
     "iopub.status.busy": "2025-03-24T21:38:46.237406Z",
     "iopub.status.idle": "2025-03-24T21:38:46.242793Z",
     "shell.execute_reply": "2025-03-24T21:38:46.241920Z"
    },
    "papermill": {
     "duration": 0.022696,
     "end_time": "2025-03-24T21:38:46.244381",
     "exception": false,
     "start_time": "2025-03-24T21:38:46.221685",
     "status": "completed"
    },
    "tags": []
   },
   "outputs": [],
   "source": [
    "##Lets try some hyperparameter tuning as well to be sure out our result\n",
    "rf_param_grid = {\n",
    "    'n_estimators': [100, 200],\n",
    "    'max_depth': [None, 10, 20],\n",
    "    'min_samples_split': [2, 5]\n",
    "}\n",
    "\n",
    "xgb_param_grid = {\n",
    "    'n_estimators': [100, 200],\n",
    "    'max_depth': [3, 5],\n",
    "    'learning_rate': [0.05, 0.1],\n",
    "    'subsample': [0.8, 1.0]\n",
    "}\n",
    "\n",
    "logreg_param_grid = {\n",
    "    'logisticregression__C': [0.01, 0.1, 1, 10],  ##inverse regularization strength\n",
    "    'logisticregression__penalty': ['l2']\n",
    "}\n"
   ]
  },
  {
   "cell_type": "code",
   "execution_count": 29,
   "id": "3280b9b2",
   "metadata": {
    "execution": {
     "iopub.execute_input": "2025-03-24T21:38:46.275622Z",
     "iopub.status.busy": "2025-03-24T21:38:46.275221Z",
     "iopub.status.idle": "2025-03-24T21:39:05.824287Z",
     "shell.execute_reply": "2025-03-24T21:39:05.823071Z"
    },
    "papermill": {
     "duration": 19.566744,
     "end_time": "2025-03-24T21:39:05.826043",
     "exception": false,
     "start_time": "2025-03-24T21:38:46.259299",
     "status": "completed"
    },
    "tags": []
   },
   "outputs": [
    {
     "data": {
      "text/html": [
       "<style>#sk-container-id-2 {color: black;background-color: white;}#sk-container-id-2 pre{padding: 0;}#sk-container-id-2 div.sk-toggleable {background-color: white;}#sk-container-id-2 label.sk-toggleable__label {cursor: pointer;display: block;width: 100%;margin-bottom: 0;padding: 0.3em;box-sizing: border-box;text-align: center;}#sk-container-id-2 label.sk-toggleable__label-arrow:before {content: \"▸\";float: left;margin-right: 0.25em;color: #696969;}#sk-container-id-2 label.sk-toggleable__label-arrow:hover:before {color: black;}#sk-container-id-2 div.sk-estimator:hover label.sk-toggleable__label-arrow:before {color: black;}#sk-container-id-2 div.sk-toggleable__content {max-height: 0;max-width: 0;overflow: hidden;text-align: left;background-color: #f0f8ff;}#sk-container-id-2 div.sk-toggleable__content pre {margin: 0.2em;color: black;border-radius: 0.25em;background-color: #f0f8ff;}#sk-container-id-2 input.sk-toggleable__control:checked~div.sk-toggleable__content {max-height: 200px;max-width: 100%;overflow: auto;}#sk-container-id-2 input.sk-toggleable__control:checked~label.sk-toggleable__label-arrow:before {content: \"▾\";}#sk-container-id-2 div.sk-estimator input.sk-toggleable__control:checked~label.sk-toggleable__label {background-color: #d4ebff;}#sk-container-id-2 div.sk-label input.sk-toggleable__control:checked~label.sk-toggleable__label {background-color: #d4ebff;}#sk-container-id-2 input.sk-hidden--visually {border: 0;clip: rect(1px 1px 1px 1px);clip: rect(1px, 1px, 1px, 1px);height: 1px;margin: -1px;overflow: hidden;padding: 0;position: absolute;width: 1px;}#sk-container-id-2 div.sk-estimator {font-family: monospace;background-color: #f0f8ff;border: 1px dotted black;border-radius: 0.25em;box-sizing: border-box;margin-bottom: 0.5em;}#sk-container-id-2 div.sk-estimator:hover {background-color: #d4ebff;}#sk-container-id-2 div.sk-parallel-item::after {content: \"\";width: 100%;border-bottom: 1px solid gray;flex-grow: 1;}#sk-container-id-2 div.sk-label:hover label.sk-toggleable__label {background-color: #d4ebff;}#sk-container-id-2 div.sk-serial::before {content: \"\";position: absolute;border-left: 1px solid gray;box-sizing: border-box;top: 0;bottom: 0;left: 50%;z-index: 0;}#sk-container-id-2 div.sk-serial {display: flex;flex-direction: column;align-items: center;background-color: white;padding-right: 0.2em;padding-left: 0.2em;position: relative;}#sk-container-id-2 div.sk-item {position: relative;z-index: 1;}#sk-container-id-2 div.sk-parallel {display: flex;align-items: stretch;justify-content: center;background-color: white;position: relative;}#sk-container-id-2 div.sk-item::before, #sk-container-id-2 div.sk-parallel-item::before {content: \"\";position: absolute;border-left: 1px solid gray;box-sizing: border-box;top: 0;bottom: 0;left: 50%;z-index: -1;}#sk-container-id-2 div.sk-parallel-item {display: flex;flex-direction: column;z-index: 1;position: relative;background-color: white;}#sk-container-id-2 div.sk-parallel-item:first-child::after {align-self: flex-end;width: 50%;}#sk-container-id-2 div.sk-parallel-item:last-child::after {align-self: flex-start;width: 50%;}#sk-container-id-2 div.sk-parallel-item:only-child::after {width: 0;}#sk-container-id-2 div.sk-dashed-wrapped {border: 1px dashed gray;margin: 0 0.4em 0.5em 0.4em;box-sizing: border-box;padding-bottom: 0.4em;background-color: white;}#sk-container-id-2 div.sk-label label {font-family: monospace;font-weight: bold;display: inline-block;line-height: 1.2em;}#sk-container-id-2 div.sk-label-container {text-align: center;}#sk-container-id-2 div.sk-container {/* jupyter's `normalize.less` sets `[hidden] { display: none; }` but bootstrap.min.css set `[hidden] { display: none !important; }` so we also need the `!important` here to be able to override the default hidden behavior on the sphinx rendered scikit-learn.org. See: https://github.com/scikit-learn/scikit-learn/issues/21755 */display: inline-block !important;position: relative;}#sk-container-id-2 div.sk-text-repr-fallback {display: none;}</style><div id=\"sk-container-id-2\" class=\"sk-top-container\"><div class=\"sk-text-repr-fallback\"><pre>GridSearchCV(cv=5,\n",
       "             estimator=Pipeline(steps=[(&#x27;standardscaler&#x27;, StandardScaler()),\n",
       "                                       (&#x27;logisticregression&#x27;,\n",
       "                                        LogisticRegression(max_iter=1000,\n",
       "                                                           random_state=4444))]),\n",
       "             n_jobs=-1,\n",
       "             param_grid={&#x27;logisticregression__C&#x27;: [0.01, 0.1, 1, 10],\n",
       "                         &#x27;logisticregression__penalty&#x27;: [&#x27;l2&#x27;]},\n",
       "             scoring=&#x27;roc_auc&#x27;)</pre><b>In a Jupyter environment, please rerun this cell to show the HTML representation or trust the notebook. <br />On GitHub, the HTML representation is unable to render, please try loading this page with nbviewer.org.</b></div><div class=\"sk-container\" hidden><div class=\"sk-item sk-dashed-wrapped\"><div class=\"sk-label-container\"><div class=\"sk-label sk-toggleable\"><input class=\"sk-toggleable__control sk-hidden--visually\" id=\"sk-estimator-id-4\" type=\"checkbox\" ><label for=\"sk-estimator-id-4\" class=\"sk-toggleable__label sk-toggleable__label-arrow\">GridSearchCV</label><div class=\"sk-toggleable__content\"><pre>GridSearchCV(cv=5,\n",
       "             estimator=Pipeline(steps=[(&#x27;standardscaler&#x27;, StandardScaler()),\n",
       "                                       (&#x27;logisticregression&#x27;,\n",
       "                                        LogisticRegression(max_iter=1000,\n",
       "                                                           random_state=4444))]),\n",
       "             n_jobs=-1,\n",
       "             param_grid={&#x27;logisticregression__C&#x27;: [0.01, 0.1, 1, 10],\n",
       "                         &#x27;logisticregression__penalty&#x27;: [&#x27;l2&#x27;]},\n",
       "             scoring=&#x27;roc_auc&#x27;)</pre></div></div></div><div class=\"sk-parallel\"><div class=\"sk-parallel-item\"><div class=\"sk-item\"><div class=\"sk-label-container\"><div class=\"sk-label sk-toggleable\"><input class=\"sk-toggleable__control sk-hidden--visually\" id=\"sk-estimator-id-5\" type=\"checkbox\" ><label for=\"sk-estimator-id-5\" class=\"sk-toggleable__label sk-toggleable__label-arrow\">estimator: Pipeline</label><div class=\"sk-toggleable__content\"><pre>Pipeline(steps=[(&#x27;standardscaler&#x27;, StandardScaler()),\n",
       "                (&#x27;logisticregression&#x27;,\n",
       "                 LogisticRegression(max_iter=1000, random_state=4444))])</pre></div></div></div><div class=\"sk-serial\"><div class=\"sk-item\"><div class=\"sk-serial\"><div class=\"sk-item\"><div class=\"sk-estimator sk-toggleable\"><input class=\"sk-toggleable__control sk-hidden--visually\" id=\"sk-estimator-id-6\" type=\"checkbox\" ><label for=\"sk-estimator-id-6\" class=\"sk-toggleable__label sk-toggleable__label-arrow\">StandardScaler</label><div class=\"sk-toggleable__content\"><pre>StandardScaler()</pre></div></div></div><div class=\"sk-item\"><div class=\"sk-estimator sk-toggleable\"><input class=\"sk-toggleable__control sk-hidden--visually\" id=\"sk-estimator-id-7\" type=\"checkbox\" ><label for=\"sk-estimator-id-7\" class=\"sk-toggleable__label sk-toggleable__label-arrow\">LogisticRegression</label><div class=\"sk-toggleable__content\"><pre>LogisticRegression(max_iter=1000, random_state=4444)</pre></div></div></div></div></div></div></div></div></div></div></div></div>"
      ],
      "text/plain": [
       "GridSearchCV(cv=5,\n",
       "             estimator=Pipeline(steps=[('standardscaler', StandardScaler()),\n",
       "                                       ('logisticregression',\n",
       "                                        LogisticRegression(max_iter=1000,\n",
       "                                                           random_state=4444))]),\n",
       "             n_jobs=-1,\n",
       "             param_grid={'logisticregression__C': [0.01, 0.1, 1, 10],\n",
       "                         'logisticregression__penalty': ['l2']},\n",
       "             scoring='roc_auc')"
      ]
     },
     "execution_count": 29,
     "metadata": {},
     "output_type": "execute_result"
    }
   ],
   "source": [
    "rf_grid = GridSearchCV(\n",
    "    RandomForestClassifier(random_state=4444),\n",
    "    rf_param_grid,\n",
    "    scoring='roc_auc',\n",
    "    cv=5,\n",
    "    n_jobs=-1\n",
    ")\n",
    "rf_grid.fit(X_ohe, y)\n",
    "\n",
    "xgb_grid = GridSearchCV(\n",
    "    XGBClassifier(use_label_encoder=False, eval_metric='logloss', random_state=4444),\n",
    "    xgb_param_grid,\n",
    "    scoring='roc_auc',\n",
    "    cv=5,\n",
    "    n_jobs=-1\n",
    ")\n",
    "xgb_grid.fit(X_le, y)\n",
    "\n",
    "logreg_pipe = make_pipeline(StandardScaler(), LogisticRegression(max_iter=1000, random_state=4444))\n",
    "logreg_grid = GridSearchCV(\n",
    "    logreg_pipe,\n",
    "    logreg_param_grid,\n",
    "    scoring='roc_auc',\n",
    "    cv=5,\n",
    "    n_jobs=-1\n",
    ")\n",
    "logreg_grid.fit(X_ohe, y)\n"
   ]
  },
  {
   "cell_type": "code",
   "execution_count": 30,
   "id": "38694860",
   "metadata": {
    "execution": {
     "iopub.execute_input": "2025-03-24T21:39:05.857596Z",
     "iopub.status.busy": "2025-03-24T21:39:05.857196Z",
     "iopub.status.idle": "2025-03-24T21:39:05.864896Z",
     "shell.execute_reply": "2025-03-24T21:39:05.864050Z"
    },
    "papermill": {
     "duration": 0.025194,
     "end_time": "2025-03-24T21:39:05.866437",
     "exception": false,
     "start_time": "2025-03-24T21:39:05.841243",
     "status": "completed"
    },
    "tags": []
   },
   "outputs": [
    {
     "name": "stdout",
     "output_type": "stream",
     "text": [
      "Best AUC (Random Forest):        0.8821661054994389\n",
      "Best Params (Random Forest):     {'max_depth': 10, 'min_samples_split': 2, 'n_estimators': 200}\n",
      "Best AUC (XGBoost):              0.8853423120089786\n",
      "Best Params (XGBoost):           {'learning_rate': 0.05, 'max_depth': 3, 'n_estimators': 100, 'subsample': 0.8}\n",
      "Best AUC (Logistic Regression):  0.8901459034792369\n",
      "Best Params (Logistic):          {'logisticregression__C': 0.01, 'logisticregression__penalty': 'l2'}\n"
     ]
    }
   ],
   "source": [
    "print(\"Best AUC (Random Forest):       \", rf_grid.best_score_)\n",
    "print(\"Best Params (Random Forest):    \", rf_grid.best_params_)\n",
    "\n",
    "print(\"Best AUC (XGBoost):             \", xgb_grid.best_score_)\n",
    "print(\"Best Params (XGBoost):          \", xgb_grid.best_params_)\n",
    "\n",
    "print(\"Best AUC (Logistic Regression): \", logreg_grid.best_score_)\n",
    "print(\"Best Params (Logistic):         \", logreg_grid.best_params_)"
   ]
  },
  {
   "cell_type": "code",
   "execution_count": 31,
   "id": "d12379fc",
   "metadata": {
    "execution": {
     "iopub.execute_input": "2025-03-24T21:39:05.898586Z",
     "iopub.status.busy": "2025-03-24T21:39:05.898213Z",
     "iopub.status.idle": "2025-03-24T21:39:05.902189Z",
     "shell.execute_reply": "2025-03-24T21:39:05.901093Z"
    },
    "papermill": {
     "duration": 0.022101,
     "end_time": "2025-03-24T21:39:05.903894",
     "exception": false,
     "start_time": "2025-03-24T21:39:05.881793",
     "status": "completed"
    },
    "tags": []
   },
   "outputs": [],
   "source": [
    "##Even after cross validation and hyperparameter tuning, logistic regression performs best"
   ]
  },
  {
   "cell_type": "code",
   "execution_count": 32,
   "id": "62fcd595",
   "metadata": {
    "execution": {
     "iopub.execute_input": "2025-03-24T21:39:05.936542Z",
     "iopub.status.busy": "2025-03-24T21:39:05.936165Z",
     "iopub.status.idle": "2025-03-24T21:39:05.963327Z",
     "shell.execute_reply": "2025-03-24T21:39:05.962287Z"
    },
    "papermill": {
     "duration": 0.045457,
     "end_time": "2025-03-24T21:39:05.965007",
     "exception": false,
     "start_time": "2025-03-24T21:39:05.919550",
     "status": "completed"
    },
    "tags": []
   },
   "outputs": [
    {
     "data": {
      "text/html": [
       "<style>#sk-container-id-3 {color: black;background-color: white;}#sk-container-id-3 pre{padding: 0;}#sk-container-id-3 div.sk-toggleable {background-color: white;}#sk-container-id-3 label.sk-toggleable__label {cursor: pointer;display: block;width: 100%;margin-bottom: 0;padding: 0.3em;box-sizing: border-box;text-align: center;}#sk-container-id-3 label.sk-toggleable__label-arrow:before {content: \"▸\";float: left;margin-right: 0.25em;color: #696969;}#sk-container-id-3 label.sk-toggleable__label-arrow:hover:before {color: black;}#sk-container-id-3 div.sk-estimator:hover label.sk-toggleable__label-arrow:before {color: black;}#sk-container-id-3 div.sk-toggleable__content {max-height: 0;max-width: 0;overflow: hidden;text-align: left;background-color: #f0f8ff;}#sk-container-id-3 div.sk-toggleable__content pre {margin: 0.2em;color: black;border-radius: 0.25em;background-color: #f0f8ff;}#sk-container-id-3 input.sk-toggleable__control:checked~div.sk-toggleable__content {max-height: 200px;max-width: 100%;overflow: auto;}#sk-container-id-3 input.sk-toggleable__control:checked~label.sk-toggleable__label-arrow:before {content: \"▾\";}#sk-container-id-3 div.sk-estimator input.sk-toggleable__control:checked~label.sk-toggleable__label {background-color: #d4ebff;}#sk-container-id-3 div.sk-label input.sk-toggleable__control:checked~label.sk-toggleable__label {background-color: #d4ebff;}#sk-container-id-3 input.sk-hidden--visually {border: 0;clip: rect(1px 1px 1px 1px);clip: rect(1px, 1px, 1px, 1px);height: 1px;margin: -1px;overflow: hidden;padding: 0;position: absolute;width: 1px;}#sk-container-id-3 div.sk-estimator {font-family: monospace;background-color: #f0f8ff;border: 1px dotted black;border-radius: 0.25em;box-sizing: border-box;margin-bottom: 0.5em;}#sk-container-id-3 div.sk-estimator:hover {background-color: #d4ebff;}#sk-container-id-3 div.sk-parallel-item::after {content: \"\";width: 100%;border-bottom: 1px solid gray;flex-grow: 1;}#sk-container-id-3 div.sk-label:hover label.sk-toggleable__label {background-color: #d4ebff;}#sk-container-id-3 div.sk-serial::before {content: \"\";position: absolute;border-left: 1px solid gray;box-sizing: border-box;top: 0;bottom: 0;left: 50%;z-index: 0;}#sk-container-id-3 div.sk-serial {display: flex;flex-direction: column;align-items: center;background-color: white;padding-right: 0.2em;padding-left: 0.2em;position: relative;}#sk-container-id-3 div.sk-item {position: relative;z-index: 1;}#sk-container-id-3 div.sk-parallel {display: flex;align-items: stretch;justify-content: center;background-color: white;position: relative;}#sk-container-id-3 div.sk-item::before, #sk-container-id-3 div.sk-parallel-item::before {content: \"\";position: absolute;border-left: 1px solid gray;box-sizing: border-box;top: 0;bottom: 0;left: 50%;z-index: -1;}#sk-container-id-3 div.sk-parallel-item {display: flex;flex-direction: column;z-index: 1;position: relative;background-color: white;}#sk-container-id-3 div.sk-parallel-item:first-child::after {align-self: flex-end;width: 50%;}#sk-container-id-3 div.sk-parallel-item:last-child::after {align-self: flex-start;width: 50%;}#sk-container-id-3 div.sk-parallel-item:only-child::after {width: 0;}#sk-container-id-3 div.sk-dashed-wrapped {border: 1px dashed gray;margin: 0 0.4em 0.5em 0.4em;box-sizing: border-box;padding-bottom: 0.4em;background-color: white;}#sk-container-id-3 div.sk-label label {font-family: monospace;font-weight: bold;display: inline-block;line-height: 1.2em;}#sk-container-id-3 div.sk-label-container {text-align: center;}#sk-container-id-3 div.sk-container {/* jupyter's `normalize.less` sets `[hidden] { display: none; }` but bootstrap.min.css set `[hidden] { display: none !important; }` so we also need the `!important` here to be able to override the default hidden behavior on the sphinx rendered scikit-learn.org. See: https://github.com/scikit-learn/scikit-learn/issues/21755 */display: inline-block !important;position: relative;}#sk-container-id-3 div.sk-text-repr-fallback {display: none;}</style><div id=\"sk-container-id-3\" class=\"sk-top-container\"><div class=\"sk-text-repr-fallback\"><pre>Pipeline(steps=[(&#x27;simpleimputer&#x27;, SimpleImputer()),\n",
       "                (&#x27;standardscaler&#x27;, StandardScaler()),\n",
       "                (&#x27;logisticregression&#x27;,\n",
       "                 LogisticRegression(C=0.01, max_iter=1000, random_state=4444))])</pre><b>In a Jupyter environment, please rerun this cell to show the HTML representation or trust the notebook. <br />On GitHub, the HTML representation is unable to render, please try loading this page with nbviewer.org.</b></div><div class=\"sk-container\" hidden><div class=\"sk-item sk-dashed-wrapped\"><div class=\"sk-label-container\"><div class=\"sk-label sk-toggleable\"><input class=\"sk-toggleable__control sk-hidden--visually\" id=\"sk-estimator-id-8\" type=\"checkbox\" ><label for=\"sk-estimator-id-8\" class=\"sk-toggleable__label sk-toggleable__label-arrow\">Pipeline</label><div class=\"sk-toggleable__content\"><pre>Pipeline(steps=[(&#x27;simpleimputer&#x27;, SimpleImputer()),\n",
       "                (&#x27;standardscaler&#x27;, StandardScaler()),\n",
       "                (&#x27;logisticregression&#x27;,\n",
       "                 LogisticRegression(C=0.01, max_iter=1000, random_state=4444))])</pre></div></div></div><div class=\"sk-serial\"><div class=\"sk-item\"><div class=\"sk-estimator sk-toggleable\"><input class=\"sk-toggleable__control sk-hidden--visually\" id=\"sk-estimator-id-9\" type=\"checkbox\" ><label for=\"sk-estimator-id-9\" class=\"sk-toggleable__label sk-toggleable__label-arrow\">SimpleImputer</label><div class=\"sk-toggleable__content\"><pre>SimpleImputer()</pre></div></div></div><div class=\"sk-item\"><div class=\"sk-estimator sk-toggleable\"><input class=\"sk-toggleable__control sk-hidden--visually\" id=\"sk-estimator-id-10\" type=\"checkbox\" ><label for=\"sk-estimator-id-10\" class=\"sk-toggleable__label sk-toggleable__label-arrow\">StandardScaler</label><div class=\"sk-toggleable__content\"><pre>StandardScaler()</pre></div></div></div><div class=\"sk-item\"><div class=\"sk-estimator sk-toggleable\"><input class=\"sk-toggleable__control sk-hidden--visually\" id=\"sk-estimator-id-11\" type=\"checkbox\" ><label for=\"sk-estimator-id-11\" class=\"sk-toggleable__label sk-toggleable__label-arrow\">LogisticRegression</label><div class=\"sk-toggleable__content\"><pre>LogisticRegression(C=0.01, max_iter=1000, random_state=4444)</pre></div></div></div></div></div></div></div>"
      ],
      "text/plain": [
       "Pipeline(steps=[('simpleimputer', SimpleImputer()),\n",
       "                ('standardscaler', StandardScaler()),\n",
       "                ('logisticregression',\n",
       "                 LogisticRegression(C=0.01, max_iter=1000, random_state=4444))])"
      ]
     },
     "execution_count": 32,
     "metadata": {},
     "output_type": "execute_result"
    }
   ],
   "source": [
    "##lets create the submission file\n",
    "logreg_final = make_pipeline(\n",
    "    SimpleImputer(strategy = 'mean'),\n",
    "    StandardScaler(),\n",
    "    LogisticRegression(max_iter=1000, random_state=4444)\n",
    ")\n",
    "\n",
    "logreg_final.set_params(\n",
    "    logisticregression__C=0.01,\n",
    "    logisticregression__penalty='l2'\n",
    ")\n",
    "\n",
    "logreg_final.fit(X_ohe, y)"
   ]
  },
  {
   "cell_type": "code",
   "execution_count": 33,
   "id": "901de568",
   "metadata": {
    "execution": {
     "iopub.execute_input": "2025-03-24T21:39:05.997438Z",
     "iopub.status.busy": "2025-03-24T21:39:05.997079Z",
     "iopub.status.idle": "2025-03-24T21:39:06.010242Z",
     "shell.execute_reply": "2025-03-24T21:39:06.009163Z"
    },
    "papermill": {
     "duration": 0.031097,
     "end_time": "2025-03-24T21:39:06.012083",
     "exception": false,
     "start_time": "2025-03-24T21:39:05.980986",
     "status": "completed"
    },
    "tags": []
   },
   "outputs": [],
   "source": [
    "test = pd.read_csv(\"/kaggle/input/playground-series-s5e3/test.csv\")"
   ]
  },
  {
   "cell_type": "code",
   "execution_count": 34,
   "id": "44dd9178",
   "metadata": {
    "execution": {
     "iopub.execute_input": "2025-03-24T21:39:06.044491Z",
     "iopub.status.busy": "2025-03-24T21:39:06.044115Z",
     "iopub.status.idle": "2025-03-24T21:39:06.065189Z",
     "shell.execute_reply": "2025-03-24T21:39:06.064194Z"
    },
    "papermill": {
     "duration": 0.038961,
     "end_time": "2025-03-24T21:39:06.066748",
     "exception": false,
     "start_time": "2025-03-24T21:39:06.027787",
     "status": "completed"
    },
    "tags": []
   },
   "outputs": [
    {
     "data": {
      "text/html": [
       "<div>\n",
       "<style scoped>\n",
       "    .dataframe tbody tr th:only-of-type {\n",
       "        vertical-align: middle;\n",
       "    }\n",
       "\n",
       "    .dataframe tbody tr th {\n",
       "        vertical-align: top;\n",
       "    }\n",
       "\n",
       "    .dataframe thead th {\n",
       "        text-align: right;\n",
       "    }\n",
       "</style>\n",
       "<table border=\"1\" class=\"dataframe\">\n",
       "  <thead>\n",
       "    <tr style=\"text-align: right;\">\n",
       "      <th></th>\n",
       "      <th>id</th>\n",
       "      <th>day</th>\n",
       "      <th>pressure</th>\n",
       "      <th>maxtemp</th>\n",
       "      <th>temparature</th>\n",
       "      <th>mintemp</th>\n",
       "      <th>dewpoint</th>\n",
       "      <th>humidity</th>\n",
       "      <th>cloud</th>\n",
       "      <th>sunshine</th>\n",
       "      <th>winddirection</th>\n",
       "      <th>windspeed</th>\n",
       "    </tr>\n",
       "  </thead>\n",
       "  <tbody>\n",
       "    <tr>\n",
       "      <th>0</th>\n",
       "      <td>2190</td>\n",
       "      <td>1</td>\n",
       "      <td>1019.5</td>\n",
       "      <td>17.5</td>\n",
       "      <td>15.8</td>\n",
       "      <td>12.7</td>\n",
       "      <td>14.9</td>\n",
       "      <td>96.0</td>\n",
       "      <td>99.0</td>\n",
       "      <td>0.0</td>\n",
       "      <td>50.0</td>\n",
       "      <td>24.3</td>\n",
       "    </tr>\n",
       "    <tr>\n",
       "      <th>1</th>\n",
       "      <td>2191</td>\n",
       "      <td>2</td>\n",
       "      <td>1016.5</td>\n",
       "      <td>17.5</td>\n",
       "      <td>16.5</td>\n",
       "      <td>15.8</td>\n",
       "      <td>15.1</td>\n",
       "      <td>97.0</td>\n",
       "      <td>99.0</td>\n",
       "      <td>0.0</td>\n",
       "      <td>50.0</td>\n",
       "      <td>35.3</td>\n",
       "    </tr>\n",
       "    <tr>\n",
       "      <th>2</th>\n",
       "      <td>2192</td>\n",
       "      <td>3</td>\n",
       "      <td>1023.9</td>\n",
       "      <td>11.2</td>\n",
       "      <td>10.4</td>\n",
       "      <td>9.4</td>\n",
       "      <td>8.9</td>\n",
       "      <td>86.0</td>\n",
       "      <td>96.0</td>\n",
       "      <td>0.0</td>\n",
       "      <td>40.0</td>\n",
       "      <td>16.9</td>\n",
       "    </tr>\n",
       "    <tr>\n",
       "      <th>3</th>\n",
       "      <td>2193</td>\n",
       "      <td>4</td>\n",
       "      <td>1022.9</td>\n",
       "      <td>20.6</td>\n",
       "      <td>17.3</td>\n",
       "      <td>15.2</td>\n",
       "      <td>9.5</td>\n",
       "      <td>75.0</td>\n",
       "      <td>45.0</td>\n",
       "      <td>7.1</td>\n",
       "      <td>20.0</td>\n",
       "      <td>50.6</td>\n",
       "    </tr>\n",
       "    <tr>\n",
       "      <th>4</th>\n",
       "      <td>2194</td>\n",
       "      <td>5</td>\n",
       "      <td>1022.2</td>\n",
       "      <td>16.1</td>\n",
       "      <td>13.8</td>\n",
       "      <td>6.4</td>\n",
       "      <td>4.3</td>\n",
       "      <td>68.0</td>\n",
       "      <td>49.0</td>\n",
       "      <td>9.2</td>\n",
       "      <td>20.0</td>\n",
       "      <td>19.4</td>\n",
       "    </tr>\n",
       "    <tr>\n",
       "      <th>...</th>\n",
       "      <td>...</td>\n",
       "      <td>...</td>\n",
       "      <td>...</td>\n",
       "      <td>...</td>\n",
       "      <td>...</td>\n",
       "      <td>...</td>\n",
       "      <td>...</td>\n",
       "      <td>...</td>\n",
       "      <td>...</td>\n",
       "      <td>...</td>\n",
       "      <td>...</td>\n",
       "      <td>...</td>\n",
       "    </tr>\n",
       "    <tr>\n",
       "      <th>725</th>\n",
       "      <td>2915</td>\n",
       "      <td>361</td>\n",
       "      <td>1020.8</td>\n",
       "      <td>18.2</td>\n",
       "      <td>17.6</td>\n",
       "      <td>16.1</td>\n",
       "      <td>13.7</td>\n",
       "      <td>96.0</td>\n",
       "      <td>95.0</td>\n",
       "      <td>0.0</td>\n",
       "      <td>20.0</td>\n",
       "      <td>34.3</td>\n",
       "    </tr>\n",
       "    <tr>\n",
       "      <th>726</th>\n",
       "      <td>2916</td>\n",
       "      <td>362</td>\n",
       "      <td>1011.7</td>\n",
       "      <td>23.2</td>\n",
       "      <td>18.1</td>\n",
       "      <td>16.0</td>\n",
       "      <td>16.0</td>\n",
       "      <td>78.0</td>\n",
       "      <td>80.0</td>\n",
       "      <td>1.6</td>\n",
       "      <td>40.0</td>\n",
       "      <td>25.2</td>\n",
       "    </tr>\n",
       "    <tr>\n",
       "      <th>727</th>\n",
       "      <td>2917</td>\n",
       "      <td>363</td>\n",
       "      <td>1022.7</td>\n",
       "      <td>21.0</td>\n",
       "      <td>18.5</td>\n",
       "      <td>17.0</td>\n",
       "      <td>15.5</td>\n",
       "      <td>92.0</td>\n",
       "      <td>96.0</td>\n",
       "      <td>0.0</td>\n",
       "      <td>50.0</td>\n",
       "      <td>21.9</td>\n",
       "    </tr>\n",
       "    <tr>\n",
       "      <th>728</th>\n",
       "      <td>2918</td>\n",
       "      <td>364</td>\n",
       "      <td>1014.4</td>\n",
       "      <td>21.0</td>\n",
       "      <td>20.0</td>\n",
       "      <td>19.7</td>\n",
       "      <td>19.8</td>\n",
       "      <td>94.0</td>\n",
       "      <td>93.0</td>\n",
       "      <td>0.0</td>\n",
       "      <td>50.0</td>\n",
       "      <td>39.5</td>\n",
       "    </tr>\n",
       "    <tr>\n",
       "      <th>729</th>\n",
       "      <td>2919</td>\n",
       "      <td>365</td>\n",
       "      <td>1020.9</td>\n",
       "      <td>22.2</td>\n",
       "      <td>18.8</td>\n",
       "      <td>17.0</td>\n",
       "      <td>13.3</td>\n",
       "      <td>79.0</td>\n",
       "      <td>89.0</td>\n",
       "      <td>0.2</td>\n",
       "      <td>60.0</td>\n",
       "      <td>50.6</td>\n",
       "    </tr>\n",
       "  </tbody>\n",
       "</table>\n",
       "<p>730 rows × 12 columns</p>\n",
       "</div>"
      ],
      "text/plain": [
       "       id  day  pressure  maxtemp  temparature  mintemp  dewpoint  humidity  \\\n",
       "0    2190    1    1019.5     17.5         15.8     12.7      14.9      96.0   \n",
       "1    2191    2    1016.5     17.5         16.5     15.8      15.1      97.0   \n",
       "2    2192    3    1023.9     11.2         10.4      9.4       8.9      86.0   \n",
       "3    2193    4    1022.9     20.6         17.3     15.2       9.5      75.0   \n",
       "4    2194    5    1022.2     16.1         13.8      6.4       4.3      68.0   \n",
       "..    ...  ...       ...      ...          ...      ...       ...       ...   \n",
       "725  2915  361    1020.8     18.2         17.6     16.1      13.7      96.0   \n",
       "726  2916  362    1011.7     23.2         18.1     16.0      16.0      78.0   \n",
       "727  2917  363    1022.7     21.0         18.5     17.0      15.5      92.0   \n",
       "728  2918  364    1014.4     21.0         20.0     19.7      19.8      94.0   \n",
       "729  2919  365    1020.9     22.2         18.8     17.0      13.3      79.0   \n",
       "\n",
       "     cloud  sunshine  winddirection  windspeed  \n",
       "0     99.0       0.0           50.0       24.3  \n",
       "1     99.0       0.0           50.0       35.3  \n",
       "2     96.0       0.0           40.0       16.9  \n",
       "3     45.0       7.1           20.0       50.6  \n",
       "4     49.0       9.2           20.0       19.4  \n",
       "..     ...       ...            ...        ...  \n",
       "725   95.0       0.0           20.0       34.3  \n",
       "726   80.0       1.6           40.0       25.2  \n",
       "727   96.0       0.0           50.0       21.9  \n",
       "728   93.0       0.0           50.0       39.5  \n",
       "729   89.0       0.2           60.0       50.6  \n",
       "\n",
       "[730 rows x 12 columns]"
      ]
     },
     "execution_count": 34,
     "metadata": {},
     "output_type": "execute_result"
    }
   ],
   "source": [
    "test"
   ]
  },
  {
   "cell_type": "code",
   "execution_count": 35,
   "id": "e1d98907",
   "metadata": {
    "execution": {
     "iopub.execute_input": "2025-03-24T21:39:06.099718Z",
     "iopub.status.busy": "2025-03-24T21:39:06.099323Z",
     "iopub.status.idle": "2025-03-24T21:39:06.107782Z",
     "shell.execute_reply": "2025-03-24T21:39:06.106774Z"
    },
    "papermill": {
     "duration": 0.0267,
     "end_time": "2025-03-24T21:39:06.109411",
     "exception": false,
     "start_time": "2025-03-24T21:39:06.082711",
     "status": "completed"
    },
    "tags": []
   },
   "outputs": [],
   "source": [
    "##Creating a categorical variable for month\n",
    "days_in_month = [31, 28, 31, 30, 31, 30, 31, 31, 30, 31, 30, 31]\n",
    "month_names = ['Jan', 'Feb', 'Mar', 'Apr', 'May', 'Jun', 'Jul', 'Aug', 'Sep', 'Oct', 'Nov', 'Dec']\n",
    "month_edges = np.cumsum([1] + days_in_month)\n",
    "month_indices = np.searchsorted(month_edges[1:], test['day'])\n",
    "test['month'] = [month_names[i] for i in month_indices]\n",
    "\n",
    "test['temp_range'] = test['maxtemp']-test['mintemp']\n",
    "test['temperature'] = test['temparature']"
   ]
  },
  {
   "cell_type": "code",
   "execution_count": 36,
   "id": "f00de60f",
   "metadata": {
    "execution": {
     "iopub.execute_input": "2025-03-24T21:39:06.143249Z",
     "iopub.status.busy": "2025-03-24T21:39:06.142882Z",
     "iopub.status.idle": "2025-03-24T21:39:06.148742Z",
     "shell.execute_reply": "2025-03-24T21:39:06.147240Z"
    },
    "papermill": {
     "duration": 0.024995,
     "end_time": "2025-03-24T21:39:06.150436",
     "exception": false,
     "start_time": "2025-03-24T21:39:06.125441",
     "status": "completed"
    },
    "tags": []
   },
   "outputs": [],
   "source": [
    "test_final = test.drop(columns = ['day','temparature','maxtemp','mintemp','dewpoint'])"
   ]
  },
  {
   "cell_type": "code",
   "execution_count": 37,
   "id": "b9799587",
   "metadata": {
    "execution": {
     "iopub.execute_input": "2025-03-24T21:39:06.183385Z",
     "iopub.status.busy": "2025-03-24T21:39:06.183025Z",
     "iopub.status.idle": "2025-03-24T21:39:06.201924Z",
     "shell.execute_reply": "2025-03-24T21:39:06.200912Z"
    },
    "papermill": {
     "duration": 0.03696,
     "end_time": "2025-03-24T21:39:06.203595",
     "exception": false,
     "start_time": "2025-03-24T21:39:06.166635",
     "status": "completed"
    },
    "tags": []
   },
   "outputs": [
    {
     "data": {
      "text/html": [
       "<div>\n",
       "<style scoped>\n",
       "    .dataframe tbody tr th:only-of-type {\n",
       "        vertical-align: middle;\n",
       "    }\n",
       "\n",
       "    .dataframe tbody tr th {\n",
       "        vertical-align: top;\n",
       "    }\n",
       "\n",
       "    .dataframe thead th {\n",
       "        text-align: right;\n",
       "    }\n",
       "</style>\n",
       "<table border=\"1\" class=\"dataframe\">\n",
       "  <thead>\n",
       "    <tr style=\"text-align: right;\">\n",
       "      <th></th>\n",
       "      <th>id</th>\n",
       "      <th>pressure</th>\n",
       "      <th>humidity</th>\n",
       "      <th>cloud</th>\n",
       "      <th>sunshine</th>\n",
       "      <th>winddirection</th>\n",
       "      <th>windspeed</th>\n",
       "      <th>month</th>\n",
       "      <th>temp_range</th>\n",
       "      <th>temperature</th>\n",
       "    </tr>\n",
       "  </thead>\n",
       "  <tbody>\n",
       "    <tr>\n",
       "      <th>0</th>\n",
       "      <td>2190</td>\n",
       "      <td>1019.5</td>\n",
       "      <td>96.0</td>\n",
       "      <td>99.0</td>\n",
       "      <td>0.0</td>\n",
       "      <td>50.0</td>\n",
       "      <td>24.3</td>\n",
       "      <td>Jan</td>\n",
       "      <td>4.8</td>\n",
       "      <td>15.8</td>\n",
       "    </tr>\n",
       "    <tr>\n",
       "      <th>1</th>\n",
       "      <td>2191</td>\n",
       "      <td>1016.5</td>\n",
       "      <td>97.0</td>\n",
       "      <td>99.0</td>\n",
       "      <td>0.0</td>\n",
       "      <td>50.0</td>\n",
       "      <td>35.3</td>\n",
       "      <td>Jan</td>\n",
       "      <td>1.7</td>\n",
       "      <td>16.5</td>\n",
       "    </tr>\n",
       "    <tr>\n",
       "      <th>2</th>\n",
       "      <td>2192</td>\n",
       "      <td>1023.9</td>\n",
       "      <td>86.0</td>\n",
       "      <td>96.0</td>\n",
       "      <td>0.0</td>\n",
       "      <td>40.0</td>\n",
       "      <td>16.9</td>\n",
       "      <td>Jan</td>\n",
       "      <td>1.8</td>\n",
       "      <td>10.4</td>\n",
       "    </tr>\n",
       "    <tr>\n",
       "      <th>3</th>\n",
       "      <td>2193</td>\n",
       "      <td>1022.9</td>\n",
       "      <td>75.0</td>\n",
       "      <td>45.0</td>\n",
       "      <td>7.1</td>\n",
       "      <td>20.0</td>\n",
       "      <td>50.6</td>\n",
       "      <td>Jan</td>\n",
       "      <td>5.4</td>\n",
       "      <td>17.3</td>\n",
       "    </tr>\n",
       "    <tr>\n",
       "      <th>4</th>\n",
       "      <td>2194</td>\n",
       "      <td>1022.2</td>\n",
       "      <td>68.0</td>\n",
       "      <td>49.0</td>\n",
       "      <td>9.2</td>\n",
       "      <td>20.0</td>\n",
       "      <td>19.4</td>\n",
       "      <td>Jan</td>\n",
       "      <td>9.7</td>\n",
       "      <td>13.8</td>\n",
       "    </tr>\n",
       "    <tr>\n",
       "      <th>...</th>\n",
       "      <td>...</td>\n",
       "      <td>...</td>\n",
       "      <td>...</td>\n",
       "      <td>...</td>\n",
       "      <td>...</td>\n",
       "      <td>...</td>\n",
       "      <td>...</td>\n",
       "      <td>...</td>\n",
       "      <td>...</td>\n",
       "      <td>...</td>\n",
       "    </tr>\n",
       "    <tr>\n",
       "      <th>725</th>\n",
       "      <td>2915</td>\n",
       "      <td>1020.8</td>\n",
       "      <td>96.0</td>\n",
       "      <td>95.0</td>\n",
       "      <td>0.0</td>\n",
       "      <td>20.0</td>\n",
       "      <td>34.3</td>\n",
       "      <td>Dec</td>\n",
       "      <td>2.1</td>\n",
       "      <td>17.6</td>\n",
       "    </tr>\n",
       "    <tr>\n",
       "      <th>726</th>\n",
       "      <td>2916</td>\n",
       "      <td>1011.7</td>\n",
       "      <td>78.0</td>\n",
       "      <td>80.0</td>\n",
       "      <td>1.6</td>\n",
       "      <td>40.0</td>\n",
       "      <td>25.2</td>\n",
       "      <td>Dec</td>\n",
       "      <td>7.2</td>\n",
       "      <td>18.1</td>\n",
       "    </tr>\n",
       "    <tr>\n",
       "      <th>727</th>\n",
       "      <td>2917</td>\n",
       "      <td>1022.7</td>\n",
       "      <td>92.0</td>\n",
       "      <td>96.0</td>\n",
       "      <td>0.0</td>\n",
       "      <td>50.0</td>\n",
       "      <td>21.9</td>\n",
       "      <td>Dec</td>\n",
       "      <td>4.0</td>\n",
       "      <td>18.5</td>\n",
       "    </tr>\n",
       "    <tr>\n",
       "      <th>728</th>\n",
       "      <td>2918</td>\n",
       "      <td>1014.4</td>\n",
       "      <td>94.0</td>\n",
       "      <td>93.0</td>\n",
       "      <td>0.0</td>\n",
       "      <td>50.0</td>\n",
       "      <td>39.5</td>\n",
       "      <td>Dec</td>\n",
       "      <td>1.3</td>\n",
       "      <td>20.0</td>\n",
       "    </tr>\n",
       "    <tr>\n",
       "      <th>729</th>\n",
       "      <td>2919</td>\n",
       "      <td>1020.9</td>\n",
       "      <td>79.0</td>\n",
       "      <td>89.0</td>\n",
       "      <td>0.2</td>\n",
       "      <td>60.0</td>\n",
       "      <td>50.6</td>\n",
       "      <td>Dec</td>\n",
       "      <td>5.2</td>\n",
       "      <td>18.8</td>\n",
       "    </tr>\n",
       "  </tbody>\n",
       "</table>\n",
       "<p>730 rows × 10 columns</p>\n",
       "</div>"
      ],
      "text/plain": [
       "       id  pressure  humidity  cloud  sunshine  winddirection  windspeed  \\\n",
       "0    2190    1019.5      96.0   99.0       0.0           50.0       24.3   \n",
       "1    2191    1016.5      97.0   99.0       0.0           50.0       35.3   \n",
       "2    2192    1023.9      86.0   96.0       0.0           40.0       16.9   \n",
       "3    2193    1022.9      75.0   45.0       7.1           20.0       50.6   \n",
       "4    2194    1022.2      68.0   49.0       9.2           20.0       19.4   \n",
       "..    ...       ...       ...    ...       ...            ...        ...   \n",
       "725  2915    1020.8      96.0   95.0       0.0           20.0       34.3   \n",
       "726  2916    1011.7      78.0   80.0       1.6           40.0       25.2   \n",
       "727  2917    1022.7      92.0   96.0       0.0           50.0       21.9   \n",
       "728  2918    1014.4      94.0   93.0       0.0           50.0       39.5   \n",
       "729  2919    1020.9      79.0   89.0       0.2           60.0       50.6   \n",
       "\n",
       "    month  temp_range  temperature  \n",
       "0     Jan         4.8         15.8  \n",
       "1     Jan         1.7         16.5  \n",
       "2     Jan         1.8         10.4  \n",
       "3     Jan         5.4         17.3  \n",
       "4     Jan         9.7         13.8  \n",
       "..    ...         ...          ...  \n",
       "725   Dec         2.1         17.6  \n",
       "726   Dec         7.2         18.1  \n",
       "727   Dec         4.0         18.5  \n",
       "728   Dec         1.3         20.0  \n",
       "729   Dec         5.2         18.8  \n",
       "\n",
       "[730 rows x 10 columns]"
      ]
     },
     "execution_count": 37,
     "metadata": {},
     "output_type": "execute_result"
    }
   ],
   "source": [
    "test_final"
   ]
  },
  {
   "cell_type": "code",
   "execution_count": 38,
   "id": "2418f58b",
   "metadata": {
    "execution": {
     "iopub.execute_input": "2025-03-24T21:39:06.236838Z",
     "iopub.status.busy": "2025-03-24T21:39:06.236391Z",
     "iopub.status.idle": "2025-03-24T21:39:06.243800Z",
     "shell.execute_reply": "2025-03-24T21:39:06.242974Z"
    },
    "papermill": {
     "duration": 0.025683,
     "end_time": "2025-03-24T21:39:06.245263",
     "exception": false,
     "start_time": "2025-03-24T21:39:06.219580",
     "status": "completed"
    },
    "tags": []
   },
   "outputs": [],
   "source": [
    "test_ohe = pd.get_dummies(test_final, columns=['month'], drop_first=True)"
   ]
  },
  {
   "cell_type": "code",
   "execution_count": 39,
   "id": "30cf3c08",
   "metadata": {
    "execution": {
     "iopub.execute_input": "2025-03-24T21:39:06.278283Z",
     "iopub.status.busy": "2025-03-24T21:39:06.277955Z",
     "iopub.status.idle": "2025-03-24T21:39:06.282655Z",
     "shell.execute_reply": "2025-03-24T21:39:06.281766Z"
    },
    "papermill": {
     "duration": 0.023017,
     "end_time": "2025-03-24T21:39:06.284205",
     "exception": false,
     "start_time": "2025-03-24T21:39:06.261188",
     "status": "completed"
    },
    "tags": []
   },
   "outputs": [],
   "source": [
    "X_test = test_ohe.drop(columns = \"id\")"
   ]
  },
  {
   "cell_type": "code",
   "execution_count": 40,
   "id": "3174fb4b",
   "metadata": {
    "execution": {
     "iopub.execute_input": "2025-03-24T21:39:06.317387Z",
     "iopub.status.busy": "2025-03-24T21:39:06.317057Z",
     "iopub.status.idle": "2025-03-24T21:39:06.325111Z",
     "shell.execute_reply": "2025-03-24T21:39:06.324223Z"
    },
    "papermill": {
     "duration": 0.026234,
     "end_time": "2025-03-24T21:39:06.326489",
     "exception": false,
     "start_time": "2025-03-24T21:39:06.300255",
     "status": "completed"
    },
    "tags": []
   },
   "outputs": [
    {
     "data": {
      "text/plain": [
       "pressure         0\n",
       "humidity         0\n",
       "cloud            0\n",
       "sunshine         0\n",
       "winddirection    1\n",
       "windspeed        0\n",
       "temp_range       0\n",
       "temperature      0\n",
       "month_Aug        0\n",
       "month_Dec        0\n",
       "month_Feb        0\n",
       "month_Jan        0\n",
       "month_Jul        0\n",
       "month_Jun        0\n",
       "month_Mar        0\n",
       "month_May        0\n",
       "month_Nov        0\n",
       "month_Oct        0\n",
       "month_Sep        0\n",
       "dtype: int64"
      ]
     },
     "execution_count": 40,
     "metadata": {},
     "output_type": "execute_result"
    }
   ],
   "source": [
    "X_test.isna().sum()"
   ]
  },
  {
   "cell_type": "code",
   "execution_count": 41,
   "id": "6c3d2b63",
   "metadata": {
    "execution": {
     "iopub.execute_input": "2025-03-24T21:39:06.359681Z",
     "iopub.status.busy": "2025-03-24T21:39:06.359218Z",
     "iopub.status.idle": "2025-03-24T21:39:06.366440Z",
     "shell.execute_reply": "2025-03-24T21:39:06.365685Z"
    },
    "papermill": {
     "duration": 0.025372,
     "end_time": "2025-03-24T21:39:06.368026",
     "exception": false,
     "start_time": "2025-03-24T21:39:06.342654",
     "status": "completed"
    },
    "tags": []
   },
   "outputs": [],
   "source": [
    "predictions = logreg_final.predict(X_test)"
   ]
  },
  {
   "cell_type": "code",
   "execution_count": 42,
   "id": "4476057f",
   "metadata": {
    "execution": {
     "iopub.execute_input": "2025-03-24T21:39:06.401384Z",
     "iopub.status.busy": "2025-03-24T21:39:06.401065Z",
     "iopub.status.idle": "2025-03-24T21:39:06.408279Z",
     "shell.execute_reply": "2025-03-24T21:39:06.407533Z"
    },
    "papermill": {
     "duration": 0.025523,
     "end_time": "2025-03-24T21:39:06.409732",
     "exception": false,
     "start_time": "2025-03-24T21:39:06.384209",
     "status": "completed"
    },
    "tags": []
   },
   "outputs": [],
   "source": [
    "predicted_probs = logreg_final.predict_proba(X_test)[:, 1]"
   ]
  },
  {
   "cell_type": "code",
   "execution_count": 43,
   "id": "1f8290aa",
   "metadata": {
    "execution": {
     "iopub.execute_input": "2025-03-24T21:39:06.442826Z",
     "iopub.status.busy": "2025-03-24T21:39:06.442438Z",
     "iopub.status.idle": "2025-03-24T21:39:06.447000Z",
     "shell.execute_reply": "2025-03-24T21:39:06.446207Z"
    },
    "papermill": {
     "duration": 0.02265,
     "end_time": "2025-03-24T21:39:06.448448",
     "exception": false,
     "start_time": "2025-03-24T21:39:06.425798",
     "status": "completed"
    },
    "tags": []
   },
   "outputs": [],
   "source": [
    "test_final[\"rainfall\"] = predicted_probs"
   ]
  },
  {
   "cell_type": "code",
   "execution_count": 44,
   "id": "cab8ee79",
   "metadata": {
    "execution": {
     "iopub.execute_input": "2025-03-24T21:39:06.481832Z",
     "iopub.status.busy": "2025-03-24T21:39:06.481448Z",
     "iopub.status.idle": "2025-03-24T21:39:06.486378Z",
     "shell.execute_reply": "2025-03-24T21:39:06.485552Z"
    },
    "papermill": {
     "duration": 0.023272,
     "end_time": "2025-03-24T21:39:06.487851",
     "exception": false,
     "start_time": "2025-03-24T21:39:06.464579",
     "status": "completed"
    },
    "tags": []
   },
   "outputs": [],
   "source": [
    "submission_file = test_final[[\"id\",\"rainfall\"]]"
   ]
  },
  {
   "cell_type": "code",
   "execution_count": 45,
   "id": "a87582cf",
   "metadata": {
    "execution": {
     "iopub.execute_input": "2025-03-24T21:39:06.521532Z",
     "iopub.status.busy": "2025-03-24T21:39:06.521156Z",
     "iopub.status.idle": "2025-03-24T21:39:06.530350Z",
     "shell.execute_reply": "2025-03-24T21:39:06.529566Z"
    },
    "papermill": {
     "duration": 0.027786,
     "end_time": "2025-03-24T21:39:06.531877",
     "exception": false,
     "start_time": "2025-03-24T21:39:06.504091",
     "status": "completed"
    },
    "tags": []
   },
   "outputs": [
    {
     "data": {
      "text/html": [
       "<div>\n",
       "<style scoped>\n",
       "    .dataframe tbody tr th:only-of-type {\n",
       "        vertical-align: middle;\n",
       "    }\n",
       "\n",
       "    .dataframe tbody tr th {\n",
       "        vertical-align: top;\n",
       "    }\n",
       "\n",
       "    .dataframe thead th {\n",
       "        text-align: right;\n",
       "    }\n",
       "</style>\n",
       "<table border=\"1\" class=\"dataframe\">\n",
       "  <thead>\n",
       "    <tr style=\"text-align: right;\">\n",
       "      <th></th>\n",
       "      <th>id</th>\n",
       "      <th>rainfall</th>\n",
       "    </tr>\n",
       "  </thead>\n",
       "  <tbody>\n",
       "    <tr>\n",
       "      <th>0</th>\n",
       "      <td>2190</td>\n",
       "      <td>0.962431</td>\n",
       "    </tr>\n",
       "    <tr>\n",
       "      <th>1</th>\n",
       "      <td>2191</td>\n",
       "      <td>0.973649</td>\n",
       "    </tr>\n",
       "    <tr>\n",
       "      <th>2</th>\n",
       "      <td>2192</td>\n",
       "      <td>0.917796</td>\n",
       "    </tr>\n",
       "    <tr>\n",
       "      <th>3</th>\n",
       "      <td>2193</td>\n",
       "      <td>0.262855</td>\n",
       "    </tr>\n",
       "    <tr>\n",
       "      <th>4</th>\n",
       "      <td>2194</td>\n",
       "      <td>0.118654</td>\n",
       "    </tr>\n",
       "    <tr>\n",
       "      <th>...</th>\n",
       "      <td>...</td>\n",
       "      <td>...</td>\n",
       "    </tr>\n",
       "    <tr>\n",
       "      <th>725</th>\n",
       "      <td>2915</td>\n",
       "      <td>0.959984</td>\n",
       "    </tr>\n",
       "    <tr>\n",
       "      <th>726</th>\n",
       "      <td>2916</td>\n",
       "      <td>0.809587</td>\n",
       "    </tr>\n",
       "    <tr>\n",
       "      <th>727</th>\n",
       "      <td>2917</td>\n",
       "      <td>0.943011</td>\n",
       "    </tr>\n",
       "    <tr>\n",
       "      <th>728</th>\n",
       "      <td>2918</td>\n",
       "      <td>0.965285</td>\n",
       "    </tr>\n",
       "    <tr>\n",
       "      <th>729</th>\n",
       "      <td>2919</td>\n",
       "      <td>0.895314</td>\n",
       "    </tr>\n",
       "  </tbody>\n",
       "</table>\n",
       "<p>730 rows × 2 columns</p>\n",
       "</div>"
      ],
      "text/plain": [
       "       id  rainfall\n",
       "0    2190  0.962431\n",
       "1    2191  0.973649\n",
       "2    2192  0.917796\n",
       "3    2193  0.262855\n",
       "4    2194  0.118654\n",
       "..    ...       ...\n",
       "725  2915  0.959984\n",
       "726  2916  0.809587\n",
       "727  2917  0.943011\n",
       "728  2918  0.965285\n",
       "729  2919  0.895314\n",
       "\n",
       "[730 rows x 2 columns]"
      ]
     },
     "execution_count": 45,
     "metadata": {},
     "output_type": "execute_result"
    }
   ],
   "source": [
    "submission_file"
   ]
  },
  {
   "cell_type": "code",
   "execution_count": 46,
   "id": "3416b56b",
   "metadata": {
    "execution": {
     "iopub.execute_input": "2025-03-24T21:39:06.565642Z",
     "iopub.status.busy": "2025-03-24T21:39:06.565269Z",
     "iopub.status.idle": "2025-03-24T21:39:06.577261Z",
     "shell.execute_reply": "2025-03-24T21:39:06.576308Z"
    },
    "papermill": {
     "duration": 0.030559,
     "end_time": "2025-03-24T21:39:06.578980",
     "exception": false,
     "start_time": "2025-03-24T21:39:06.548421",
     "status": "completed"
    },
    "tags": []
   },
   "outputs": [],
   "source": [
    "submission_file.to_csv(\"/kaggle/working/submission.csv\",index = False)"
   ]
  },
  {
   "cell_type": "code",
   "execution_count": 47,
   "id": "ce61de58",
   "metadata": {
    "execution": {
     "iopub.execute_input": "2025-03-24T21:39:06.612965Z",
     "iopub.status.busy": "2025-03-24T21:39:06.612621Z",
     "iopub.status.idle": "2025-03-24T21:39:06.618696Z",
     "shell.execute_reply": "2025-03-24T21:39:06.617436Z"
    },
    "papermill": {
     "duration": 0.02504,
     "end_time": "2025-03-24T21:39:06.620593",
     "exception": false,
     "start_time": "2025-03-24T21:39:06.595553",
     "status": "completed"
    },
    "tags": []
   },
   "outputs": [
    {
     "data": {
      "text/plain": [
       "0.004514616746924679"
      ]
     },
     "execution_count": 47,
     "metadata": {},
     "output_type": "execute_result"
    }
   ],
   "source": [
    "submission_file[\"rainfall\"].min()"
   ]
  },
  {
   "cell_type": "code",
   "execution_count": 48,
   "id": "51bddae1",
   "metadata": {
    "execution": {
     "iopub.execute_input": "2025-03-24T21:39:06.654158Z",
     "iopub.status.busy": "2025-03-24T21:39:06.653818Z",
     "iopub.status.idle": "2025-03-24T21:39:06.659541Z",
     "shell.execute_reply": "2025-03-24T21:39:06.658660Z"
    },
    "papermill": {
     "duration": 0.024128,
     "end_time": "2025-03-24T21:39:06.661014",
     "exception": false,
     "start_time": "2025-03-24T21:39:06.636886",
     "status": "completed"
    },
    "tags": []
   },
   "outputs": [
    {
     "data": {
      "text/plain": [
       "0.9784995331358021"
      ]
     },
     "execution_count": 48,
     "metadata": {},
     "output_type": "execute_result"
    }
   ],
   "source": [
    "submission_file[\"rainfall\"].max()"
   ]
  },
  {
   "cell_type": "code",
   "execution_count": null,
   "id": "0efd60a1",
   "metadata": {
    "papermill": {
     "duration": 0.06965,
     "end_time": "2025-03-24T21:39:06.747030",
     "exception": false,
     "start_time": "2025-03-24T21:39:06.677380",
     "status": "completed"
    },
    "tags": []
   },
   "outputs": [],
   "source": []
  }
 ],
 "metadata": {
  "kaggle": {
   "accelerator": "none",
   "dataSources": [
    {
     "databundleVersionId": 11251744,
     "isSourceIdPinned": false,
     "sourceId": 91714,
     "sourceType": "competition"
    }
   ],
   "dockerImageVersionId": 30918,
   "isGpuEnabled": false,
   "isInternetEnabled": true,
   "language": "python",
   "sourceType": "notebook"
  },
  "kernelspec": {
   "display_name": "Python 3",
   "language": "python",
   "name": "python3"
  },
  "language_info": {
   "codemirror_mode": {
    "name": "ipython",
    "version": 3
   },
   "file_extension": ".py",
   "mimetype": "text/x-python",
   "name": "python",
   "nbconvert_exporter": "python",
   "pygments_lexer": "ipython3",
   "version": "3.10.12"
  },
  "papermill": {
   "default_parameters": {},
   "duration": 35.379524,
   "end_time": "2025-03-24T21:39:07.583878",
   "environment_variables": {},
   "exception": null,
   "input_path": "__notebook__.ipynb",
   "output_path": "__notebook__.ipynb",
   "parameters": {},
   "start_time": "2025-03-24T21:38:32.204354",
   "version": "2.6.0"
  }
 },
 "nbformat": 4,
 "nbformat_minor": 5
}
